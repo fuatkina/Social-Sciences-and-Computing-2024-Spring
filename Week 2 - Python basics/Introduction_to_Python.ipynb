{
 "cells": [
  {
   "cell_type": "markdown",
   "metadata": {
    "id": "Nfo-V4Ho7vGG"
   },
   "source": [
    "# Introduction to Scientific Programming in Python\n",
    "\n"
   ]
  },
  {
   "cell_type": "markdown",
   "metadata": {},
   "source": [
    "Created by Vahid Rostami. Accessed via Social ComQuant project https://socialcomquant.ku.edu.tr/,\n",
    "\n",
    "and revised by M.Fuat Kına."
   ]
  },
  {
   "cell_type": "markdown",
   "metadata": {
    "id": "wGldcVel8kW4"
   },
   "source": [
    "\n",
    "\n",
    "```\n",
    "# This is formatted as code\n",
    "```\n",
    "\n",
    "Python is a modern, powerful, dynamic programming language. It has simple and consice syntaxes which are easy to learn but very effective for object-oriented programming. The Python interpreter and various advanced libraries are all available free and open-source. Specifically many useful libraries developed by statisticians and computer scientists make Python an ideal programming language for data analysis.  \n",
    "\n",
    "---"
   ]
  },
  {
   "cell_type": "markdown",
   "metadata": {
    "id": "ZUR5pWoMSorj"
   },
   "source": [
    "This introductory notebook will walk you through the basic fields of python (or any other language) programming.  \n",
    "Walk through them sequentially and solve the exercises :\n",
    "1. **Printing to the screen**\n",
    "1. **Variables**\n",
    "1. **Lists**\n",
    "1. **Strings**\n",
    "1. **Dictionaries**\n",
    "1. **Operators**\n",
    "1. **If statement and loops**\n",
    "1. **Functions**\n",
    "1. **Files**\n"
   ]
  },
  {
   "cell_type": "markdown",
   "metadata": {
    "id": "7z2H6xhlMywy"
   },
   "source": [
    "## Printing to the screen"
   ]
  },
  {
   "cell_type": "markdown",
   "metadata": {
    "id": "_2lqQS9vM6kV"
   },
   "source": [
    "Let's start talking to Python! Imagine we wanna ask Python to print a message on the screen. How do we do that? Here is a line of code to tell Python to print Hello World!\n",
    "\n",
    "print('Hello World')\n",
    "\n",
    "`print()` is a function which tells Python that we wanna print something (something will be whatever we put between the parentheses which is called _arguments_).\n",
    "\n",
    "Now if we set up our Python enviroment, type the line above in our favourite text editor and run it, Python will print \"Hello World\" for us.\n",
    "\n"
   ]
  },
  {
   "cell_type": "code",
   "execution_count": null,
   "metadata": {
    "colab": {
     "base_uri": "https://localhost:8080/"
    },
    "id": "T9-07BiP7yep",
    "outputId": "06b277a9-601a-4425-ac5e-c68ab5be23d1",
    "tags": []
   },
   "outputs": [],
   "source": [
    "print(\"Hello World\")"
   ]
  },
  {
   "cell_type": "markdown",
   "metadata": {
    "id": "Ty55Ig7-PFkx"
   },
   "source": [
    "As soon as we start writing a code in the Python editor we need to use comments to annotate our code. Comments are super important and useful when we write a code. Comment lines start with a hash symbol (#). In this way Python knows what are the executable lines (lines without hash symbol) and what are comment lines (lines with hash symbol). All in all one could think of comments as the lines who talk to humans (to you or whoever that reads your code later) while other lines talk to Python! \n"
   ]
  },
  {
   "cell_type": "code",
   "execution_count": null,
   "metadata": {
    "colab": {
     "base_uri": "https://localhost:8080/"
    },
    "id": "dnTVbCRhRBsa",
    "outputId": "21ceac25-111a-442d-b90e-3bc00738989b"
   },
   "outputs": [],
   "source": [
    "# example comment, Python will ignore this line\n",
    "print(\"Hello World\")"
   ]
  },
  {
   "cell_type": "markdown",
   "metadata": {},
   "source": [
    "Note that `print()` have some default \"separator\" and \"ending\" arguments. Python allows us to modify those by `sep=` and `end=` methods.\n",
    "\n",
    "Defaults are as follows: `sep=\" \"` and `end=\"\\n\"`\n",
    "\n",
    "`\"\\n\"` "
   ]
  },
  {
   "cell_type": "code",
   "execution_count": null,
   "metadata": {},
   "outputs": [],
   "source": [
    "print(\"Hello\", end=\"\\n\\n\\n\")\n",
    "print(\"World\")"
   ]
  },
  {
   "cell_type": "code",
   "execution_count": null,
   "metadata": {},
   "outputs": [],
   "source": [
    "print(\"Hello\", \"World\", sep=\" \")"
   ]
  },
  {
   "cell_type": "code",
   "execution_count": null,
   "metadata": {},
   "outputs": [],
   "source": [
    "print(\"Hello\", \"World\", sep=\"!\")"
   ]
  },
  {
   "cell_type": "code",
   "execution_count": null,
   "metadata": {},
   "outputs": [],
   "source": [
    "print(\"Hello\")\n",
    "print(\"World\")"
   ]
  },
  {
   "cell_type": "code",
   "execution_count": null,
   "metadata": {},
   "outputs": [],
   "source": [
    "print(\"Hello\", end=\"\\n\")\n",
    "print(\"World\")"
   ]
  },
  {
   "cell_type": "code",
   "execution_count": null,
   "metadata": {},
   "outputs": [],
   "source": [
    "print(\"Hello\", end=\"\\n\\n\\n\")\n",
    "print(\"World\")"
   ]
  },
  {
   "cell_type": "code",
   "execution_count": null,
   "metadata": {},
   "outputs": [],
   "source": [
    "print(\"Hello\", end=\" \")\n",
    "print(\"World\", end=\"!\")"
   ]
  },
  {
   "cell_type": "markdown",
   "metadata": {
    "id": "FQrd2YRWYFwz"
   },
   "source": [
    "## Variables\n",
    "\n",
    "\n"
   ]
  },
  {
   "cell_type": "markdown",
   "metadata": {
    "id": "3RKXjhqTYKXK"
   },
   "source": [
    "Variables are basically reserved memory locations to (temporarily) store information. They enable you to store a value in your computer's memory and retrieve that value later.  "
   ]
  },
  {
   "cell_type": "markdown",
   "metadata": {
    "id": "_FESOf_8Zwxx"
   },
   "source": [
    "### Defining a variable: assigning values to variables"
   ]
  },
  {
   "cell_type": "markdown",
   "metadata": {
    "id": "4OtCFmuCaogZ"
   },
   "source": [
    "To define a variable you write an assignment:"
   ]
  },
  {
   "cell_type": "code",
   "execution_count": null,
   "metadata": {
    "id": "OcRFK1CuYIWE",
    "tags": []
   },
   "outputs": [],
   "source": [
    "my_variable_integer = 100        # An integer assignment\n",
    "my_variable_float = 1000.0       # A floating point\n",
    "my_variable_string = \"John\"      # A string"
   ]
  },
  {
   "cell_type": "markdown",
   "metadata": {
    "id": "zQCzIVaQa07R"
   },
   "source": [
    "The name of the varaible in on the left hand side of an equal sign (=). The operand on the right hand side of the equal sign (=) must be some expression that the interpreter can make sense of. \n",
    "An assignment should be seen as my_variable_integer <-- 100 rather than in the mathematical sense. This means that by assigning a value to a variable you move that value (here 100) into the memory location to which you give the name variable (here my_variable_integer)."
   ]
  },
  {
   "cell_type": "code",
   "execution_count": null,
   "metadata": {
    "id": "FBcu1JFBMBnt",
    "tags": []
   },
   "outputs": [],
   "source": [
    "print(my_variable_integer)\n",
    "print(my_variable_float)\n",
    "print(my_variable_string)"
   ]
  },
  {
   "cell_type": "markdown",
   "metadata": {
    "id": "56UpQMcMc8pY"
   },
   "source": [
    "### Standard variable classes"
   ]
  },
  {
   "cell_type": "markdown",
   "metadata": {
    "id": "XhvYz7PBdJiV"
   },
   "source": [
    "Each variable can belong to one of the predefined classes. By defining a variable you tell the Python interpreter what kind of variable it is: an integer, a string, etc. In the example above we defined 3 types of variables: an integer, a float and a string. You can check the variable type, i.e. in which class they belong, by executing the following statement: "
   ]
  },
  {
   "cell_type": "code",
   "execution_count": null,
   "metadata": {
    "colab": {
     "base_uri": "https://localhost:8080/"
    },
    "id": "UiDZsWZaeJ6g",
    "outputId": "6c3d8ff2-df67-4aec-ec78-96d963f17fee",
    "tags": []
   },
   "outputs": [],
   "source": [
    "print(type(my_variable_float))"
   ]
  },
  {
   "cell_type": "markdown",
   "metadata": {
    "id": "uco5FNeYfSry"
   },
   "source": [
    "| Class  | Example\n",
    "|------|------\n",
    "|   bool  |  True\n",
    "|   int  | 5\n",
    "|   float | 5.27836532\n",
    "|   string | 'Hello World'\n",
    "\n"
   ]
  },
  {
   "cell_type": "markdown",
   "metadata": {
    "id": "W4Z2ziJt-Nqu"
   },
   "source": [
    "### Name of a variable"
   ]
  },
  {
   "cell_type": "markdown",
   "metadata": {
    "id": "ZvyfKBbP-2ou"
   },
   "source": [
    "Variable names must begin with a letter, which may be followed by any combination of letters, digits, and underscores. Python distinguishes\t between uppercase and lowercase characters, so “A” and “a” are\tnot the same variable.\t"
   ]
  },
  {
   "cell_type": "code",
   "execution_count": null,
   "metadata": {
    "colab": {
     "base_uri": "https://localhost:8080/"
    },
    "id": "ED0RePkSlXci",
    "outputId": "22b096bd-f101-43d2-ce50-c69f2610e88f"
   },
   "outputs": [],
   "source": [
    "# Example 1\n",
    "x = 10\n",
    "y = 12.5\n",
    "z = x*y \n",
    "print(z)"
   ]
  },
  {
   "cell_type": "code",
   "execution_count": null,
   "metadata": {},
   "outputs": [],
   "source": [
    "# Example 2\n",
    "number_of_students = 30\n",
    "number_of_teachers = 12\n",
    "number_of_students_and_teachers = number_of_students + number_of_teachers\n",
    "print(number_of_students_and_teachers)"
   ]
  },
  {
   "cell_type": "markdown",
   "metadata": {
    "id": "OR5zRhBcBtuD"
   },
   "source": [
    "Readability is very important when we choose a name for a variable. Which one is easier to guess? I hope your answer is example 2!\n",
    "\n",
    "Advice: Do not use the lowercase letter ‘l’, uppercase ‘O’, and uppercase ‘I’. Why? Because the l and the I look a lot like each other and the number 1. And O looks a lot like 0."
   ]
  },
  {
   "cell_type": "markdown",
   "metadata": {
    "id": "aEXelx4NI3-K"
   },
   "source": [
    "### Reserved names in Python"
   ]
  },
  {
   "cell_type": "markdown",
   "metadata": {
    "id": "b4NyHLGMI-yu"
   },
   "source": [
    "Among infinite possible choices of the variable names in Python, there are few which are reserved for Python."
   ]
  },
  {
   "cell_type": "markdown",
   "metadata": {
    "id": "YJ0tJWb6K2pz"
   },
   "source": [
    "|Do|not|use|these|variable|names|in|Python\n",
    "|--|--|--|--|--|--|--|--\n",
    "|and|assert| break|exec| not| lambda|yield|with\n",
    "|while|try| raise|print| pass| or| is| win\n",
    "|import| if| global| from| for| finally|else|elif\n",
    "|del|def|continue|class|return| True|False|except"
   ]
  },
  {
   "cell_type": "markdown",
   "metadata": {
    "id": "hulwl26p8RGg"
   },
   "source": [
    "### Exercises (Variables)\n",
    "Create a string, a float and an integer :  \n",
    "The string should be named  _mystring_ and should contain the word \"LovePython\".  \n",
    "The float should be named _myfloat_  and should contain the value 6.0.   \n",
    "The integer should be named _myint_ and should contain the value 4.  "
   ]
  },
  {
   "cell_type": "code",
   "execution_count": null,
   "metadata": {
    "colab": {
     "base_uri": "https://localhost:8080/"
    },
    "id": "37NHDb3R8bWW",
    "outputId": "5a670dd5-2d83-43c7-bbb8-e6f589b9fbd9",
    "tags": []
   },
   "outputs": [],
   "source": [
    "# change this code\n",
    "mystring = \"LovePython\"\n",
    "myfloat = 6.0\n",
    "myint = 4\n",
    "\n",
    "# testing code\n",
    "if mystring == \"LovePython\":\n",
    "    print(\"String: %s\" % mystring)"
   ]
  },
  {
   "cell_type": "code",
   "execution_count": null,
   "metadata": {},
   "outputs": [],
   "source": [
    "my_name = \"Fuat\"\n",
    "print(\"Let's talk about %s.\" % my_name)\n",
    "\n",
    "my_height = 1.78\n",
    "print(\"He's\", my_height, \"meters tall\")\n",
    "\n",
    "my_weight = 71\n",
    "print(\"He's %i kg heavy.\" % my_weight)"
   ]
  },
  {
   "cell_type": "markdown",
   "metadata": {
    "id": "rqSDJ5aHm2oH"
   },
   "source": [
    "## Lists"
   ]
  },
  {
   "cell_type": "markdown",
   "metadata": {
    "id": "cd21VLBXm-Ku"
   },
   "source": [
    "Python offers different datatypes. List is one of the most frequently used datatypes in Python. List is a collections of *values* and is denoted by square brackets \"[]\". The values in a list may be of different types (integer, float, string etc.) and are separated by a comma \",\".  \n",
    "Here are some examples:"
   ]
  },
  {
   "cell_type": "code",
   "execution_count": null,
   "metadata": {
    "id": "EBaJL4EGoipu"
   },
   "outputs": [],
   "source": [
    "# empty list\n",
    "my_list = []\n",
    "\n",
    "# list of integers\n",
    "my_list = [2, 5, 8, 9]\n",
    "\n",
    "# list of strings\n",
    "my_list = ['Monday', 'Tuesday', 'Wednesday', 8, 9]"
   ]
  },
  {
   "cell_type": "markdown",
   "metadata": {
    "id": "afqaydc7Lv9F"
   },
   "source": [
    "On the list we can perform different operations such as accessing individual elements of the list, removing/adding elements from/to the list. When we have a list of numbers we can do all sorts of mathematical operations (e.g. multiplication, division, substraction) on the list. \n",
    "\n",
    "Note that each individual element in the list can be accessed using the index of that element. For example in the *my_list* the index of 'Monday' is 0: my_list[0] = 'Monday' and so on.   \n",
    "We can also access a group of elements by defining the range of indeces, for example my_list[0:2] = ['Monday', 'Tuesday']\n"
   ]
  },
  {
   "cell_type": "markdown",
   "metadata": {
    "id": "SPbIm93NwHNC"
   },
   "source": [
    "### Operations on Lists"
   ]
  },
  {
   "cell_type": "code",
   "execution_count": null,
   "metadata": {
    "id": "bD6m2mWNMckv"
   },
   "outputs": [],
   "source": [
    "# Declare a list of prime number\n",
    "primes = [2,3,5,7,9,11]"
   ]
  },
  {
   "cell_type": "code",
   "execution_count": null,
   "metadata": {
    "colab": {
     "base_uri": "https://localhost:8080/"
    },
    "id": "5oLk1BcNw4pI",
    "outputId": "122ab2d6-85f1-497b-943a-d5811b535ad6"
   },
   "outputs": [],
   "source": [
    "# Check the type of the varibale\n",
    "type(primes)"
   ]
  },
  {
   "cell_type": "code",
   "execution_count": null,
   "metadata": {
    "colab": {
     "base_uri": "https://localhost:8080/"
    },
    "id": "RuQAWMs8w7gm",
    "outputId": "e77623a2-cca6-4c7d-f785-4f68bed9886a"
   },
   "outputs": [],
   "source": [
    "# See the content of a list\n",
    "print(primes)"
   ]
  },
  {
   "cell_type": "code",
   "execution_count": null,
   "metadata": {
    "colab": {
     "base_uri": "https://localhost:8080/"
    },
    "id": "fGITo6GARzY7",
    "outputId": "73708399-7e17-4c02-cc45-4a78457b2c70"
   },
   "outputs": [],
   "source": [
    "# Check the length of a list\n",
    "len(primes)"
   ]
  },
  {
   "cell_type": "code",
   "execution_count": null,
   "metadata": {
    "colab": {
     "base_uri": "https://localhost:8080/"
    },
    "id": "6QF15Z0BxB-I",
    "outputId": "c5fff30c-1cc6-47d5-94f8-786e3bfa8210"
   },
   "outputs": [],
   "source": [
    "# Access one element\n",
    "primes[5]"
   ]
  },
  {
   "cell_type": "code",
   "execution_count": null,
   "metadata": {
    "colab": {
     "base_uri": "https://localhost:8080/"
    },
    "id": "5Cr3l-r2xLLe",
    "outputId": "159b47d5-9fd2-4247-ac94-22ec666acda7"
   },
   "outputs": [],
   "source": [
    "# Modify an element\n",
    "primes[5] = 13 \n",
    "primes"
   ]
  },
  {
   "cell_type": "code",
   "execution_count": null,
   "metadata": {
    "colab": {
     "base_uri": "https://localhost:8080/"
    },
    "id": "BjNL9A_WAalY",
    "outputId": "9d6426ba-6834-4ffc-b17f-918ae61f0aae"
   },
   "outputs": [],
   "source": [
    "# Add an element at the end of the list\n",
    "primes.append(17)\n",
    "primes"
   ]
  },
  {
   "cell_type": "code",
   "execution_count": null,
   "metadata": {
    "colab": {
     "base_uri": "https://localhost:8080/",
     "height": 201
    },
    "id": "8Ro5R4payTXt",
    "outputId": "d2c0e94a-f7d3-45bb-ad49-7f64f8bc7937",
    "tags": []
   },
   "outputs": [],
   "source": [
    "# Deleting an element\n",
    "del primes[6]\n",
    "primes"
   ]
  },
  {
   "cell_type": "code",
   "execution_count": null,
   "metadata": {
    "colab": {
     "base_uri": "https://localhost:8080/"
    },
    "id": "srvTrXOu8DD3",
    "outputId": "5e435459-1377-4125-e47e-015bf4cca3bb",
    "tags": []
   },
   "outputs": [],
   "source": [
    "primes_copy = primes\n",
    "\n",
    "# add one elementt to primes\n",
    "primes_copy.append(19)\n",
    "\n",
    "print('primes:', primes, ', primes_copy:', primes_copy)"
   ]
  },
  {
   "cell_type": "markdown",
   "metadata": {
    "id": "Xp8-tmhJzJyu"
   },
   "source": [
    "SLOW DOWN! What just happend?! \n",
    "\n",
    "This way of copying a list gives only a shallow copy which is a new name to the same set of elements. For example: If David_Lynch is a list, \"Best_Director = David_Lynch\" makes a shallow copy of David_Lynch, and now if we manipulate Best_Director we will manipulate David_Lynch as well!\n",
    "\n",
    "\n",
    "To do it in a righ way:"
   ]
  },
  {
   "cell_type": "code",
   "execution_count": null,
   "metadata": {
    "colab": {
     "base_uri": "https://localhost:8080/"
    },
    "id": "-IsK78iLyfkw",
    "outputId": "c9d85a45-2f7d-4650-ec29-641b2aaae8c4",
    "tags": []
   },
   "outputs": [],
   "source": [
    "primes_copy = primes.copy()\n",
    "\n",
    "# add one elementt to primes\n",
    "primes_copy.append(23)\n",
    "print('primes:', primes, ', primes_copy:', primes_copy)"
   ]
  },
  {
   "cell_type": "markdown",
   "metadata": {
    "id": "fscZpO8tDRg0"
   },
   "source": [
    "A few more useful list methods:\n",
    "\n",
    "insert, extend, index, remove, sort, reverse, pop, ..."
   ]
  },
  {
   "cell_type": "code",
   "execution_count": null,
   "metadata": {
    "colab": {
     "base_uri": "https://localhost:8080/"
    },
    "id": "lJtmTBykGjNj",
    "outputId": "40c51041-b99b-4fc4-ec21-1d1d0b32ce08",
    "tags": []
   },
   "outputs": [],
   "source": [
    "my_list = ['red', 'blue', 'yellow']\n",
    "\n",
    "## insert 'black' at index 0 \n",
    "my_list.insert(0, 'black')\n",
    "## add list of elems at end\n",
    "\n",
    "new_list = ['gray', 'orange']\n",
    "\n",
    "my_list.extend(new_list)\n",
    "print(my_list)"
   ]
  },
  {
   "cell_type": "markdown",
   "metadata": {
    "id": "Yu7Usgab1_xd"
   },
   "source": [
    "### Exercises (Lists)"
   ]
  },
  {
   "cell_type": "markdown",
   "metadata": {
    "id": "BRDoQ6SA2JKm"
   },
   "source": [
    "1- Write a Python program to sum all the items in a list."
   ]
  },
  {
   "cell_type": "markdown",
   "metadata": {},
   "source": [
    "x=[1,2,3,18,35]"
   ]
  },
  {
   "cell_type": "code",
   "execution_count": null,
   "metadata": {
    "id": "lFp7dLCOwA8V"
   },
   "outputs": [],
   "source": []
  },
  {
   "cell_type": "markdown",
   "metadata": {
    "id": "PfmzoSXB2NSZ"
   },
   "source": [
    "2- Write a Python program to get the largest and the smallest number from a list."
   ]
  },
  {
   "cell_type": "code",
   "execution_count": null,
   "metadata": {
    "id": "nLpGz8_RxwOR"
   },
   "outputs": [],
   "source": []
  },
  {
   "cell_type": "markdown",
   "metadata": {
    "id": "5TegiVlX2jG0"
   },
   "source": [
    "3- Create a list of integer nember less than 10 and call it `a`. "
   ]
  },
  {
   "cell_type": "code",
   "execution_count": null,
   "metadata": {
    "id": "POfOSjm_yXa_"
   },
   "outputs": [],
   "source": []
  },
  {
   "cell_type": "markdown",
   "metadata": {
    "id": "GGVagAN-KTLs"
   },
   "source": [
    "\n",
    "## Strings"
   ]
  },
  {
   "cell_type": "markdown",
   "metadata": {
    "id": "a8Kzdn3B_P3l"
   },
   "source": [
    "Strings in Python are surounded by either single or double quotation marks, e.g. a = \"We Love Python!\". Strings are in fact lists of charachters which are _immutable_ (in contrast to a list which is _mutable_). "
   ]
  },
  {
   "cell_type": "code",
   "execution_count": null,
   "metadata": {
    "id": "m0BEZkn3Sor1"
   },
   "outputs": [],
   "source": [
    "a = \"We Love Python!\""
   ]
  },
  {
   "cell_type": "code",
   "execution_count": null,
   "metadata": {},
   "outputs": [],
   "source": [
    "len(a)"
   ]
  },
  {
   "cell_type": "markdown",
   "metadata": {
    "id": "_wTN_BqSC658"
   },
   "source": [
    "In Python there are numerous built-in functions to apply on strings. For example the _split_ function breaks the string into a list of single parts based on a specified separator."
   ]
  },
  {
   "cell_type": "code",
   "execution_count": null,
   "metadata": {
    "colab": {
     "base_uri": "https://localhost:8080/"
    },
    "id": "3kJxdlogKXLE",
    "outputId": "ff983c77-b213-4d5f-95c2-75afe2730b3a"
   },
   "outputs": [],
   "source": [
    "# Example: split the variable a to 3 words\n",
    "print(a.split(' '))"
   ]
  },
  {
   "cell_type": "code",
   "execution_count": null,
   "metadata": {
    "colab": {
     "base_uri": "https://localhost:8080/"
    },
    "id": "OaYTMry0HIoF",
    "outputId": "ce95dda9-d9d0-49db-9a12-88344e47c541"
   },
   "outputs": [],
   "source": [
    "# Example: append a string to another string\n",
    "a = \"We Love Python!\"\n",
    "b= \"Python Loves Us!\"\n",
    "c = a + \" & \" + b\n",
    "print(c)"
   ]
  },
  {
   "cell_type": "code",
   "execution_count": null,
   "metadata": {},
   "outputs": [],
   "source": [
    "len(a)"
   ]
  },
  {
   "cell_type": "markdown",
   "metadata": {
    "id": "llZBRwRJIxpR"
   },
   "source": [
    "### Slicing and Indexing"
   ]
  },
  {
   "cell_type": "markdown",
   "metadata": {
    "id": "aM_c57vmI_kV"
   },
   "source": [
    "In previous examples we have used indexing and slicing. Here we want to emphasize the importance of these two methods in Python and give a more comprehensive explanation of them. \n",
    "\n",
    "Indexing refers to the operation of accessing a particular element of an array, list, string, etc. For example let's go back to our variable a again. All the characters in the variable a have a different index as follows:"
   ]
  },
  {
   "cell_type": "markdown",
   "metadata": {
    "id": "G-fNg_4eKcta"
   },
   "source": [
    "|variable a |W|e|' '|L|o|v|e|' '|P|y|t|h|o|n|!\n",
    "|--|--|--|--|--|--|--|--|--|--|--|--|--|--|--|--\n",
    "|Index|0|1|2|3|4|5|6|7|8|9|10|11|12|13|14"
   ]
  },
  {
   "cell_type": "markdown",
   "metadata": {
    "id": "LhBwPyfIMhOB"
   },
   "source": [
    "As you see in the table above, each character has one index. For example the charachter '!' has the index 14. we can access then this charachter as follows: "
   ]
  },
  {
   "cell_type": "code",
   "execution_count": null,
   "metadata": {
    "colab": {
     "base_uri": "https://localhost:8080/"
    },
    "id": "hROxX7o_M_BT",
    "outputId": "919dc9fe-96ce-4ebe-9df1-305f86805c29"
   },
   "outputs": [],
   "source": [
    "# Example: access the character \"!\" in the variable a\n",
    "print(a[14])"
   ]
  },
  {
   "cell_type": "markdown",
   "metadata": {
    "id": "Pttw2I9LNDE3"
   },
   "source": [
    "In Python we can also use negative index numbers. Intuitively, negative indexing is a backward counting (as opposed to the positive indexing which is the forward counting). This is usually helpful when we have a long string (or list, array, etc.) and we want to pinpoint an element towards the end."
   ]
  },
  {
   "cell_type": "markdown",
   "metadata": {
    "id": "9asV1wHcNAfb"
   },
   "source": [
    "|variable a |W|e|' '|L|o|v|e|' '|P|y|t|h|o|n|!\n",
    "|--|--|--|--|--|--|--|--|--|--|--|--|--|--|--|--\n",
    "|Index |-15|-14|-13|-12|-11|-10|-9|-8|-7|-6|-5|-4|-3|-2|-1|"
   ]
  },
  {
   "cell_type": "code",
   "execution_count": null,
   "metadata": {
    "colab": {
     "base_uri": "https://localhost:8080/"
    },
    "id": "CUsG3M26PHzf",
    "outputId": "b8e568c7-4c79-4174-81d0-e2875f307b95"
   },
   "outputs": [],
   "source": [
    "# Example: access the character \"!\" in the variable a\n",
    "print(a[-1])"
   ]
  },
  {
   "cell_type": "markdown",
   "metadata": {
    "id": "yMiWeQGqPW0j"
   },
   "source": [
    "Slicing is the calling of a range of characters from the string (or list, array, etc.). For example we would like to extract the \"Love\" part from the variable a:"
   ]
  },
  {
   "cell_type": "code",
   "execution_count": null,
   "metadata": {
    "colab": {
     "base_uri": "https://localhost:8080/"
    },
    "id": "pwHohisqMevj",
    "outputId": "122817e9-7e10-42e8-cdab-91789b903e26"
   },
   "outputs": [],
   "source": [
    "# Example: print only \"Love\" part of the variable a\n",
    "a = \"We Love Python!\"\n",
    "print(a[3:7])"
   ]
  },
  {
   "cell_type": "markdown",
   "metadata": {
    "id": "W3pTJiXEP7o8"
   },
   "source": [
    "We can also slice from a specific index to the end or from the beginning to the specific index as follows:"
   ]
  },
  {
   "cell_type": "code",
   "execution_count": null,
   "metadata": {
    "colab": {
     "base_uri": "https://localhost:8080/"
    },
    "id": "lUB1IumsD9fb",
    "outputId": "f46e7f66-2edf-45f3-a311-1754d8ba2a92"
   },
   "outputs": [],
   "source": [
    "# Example: slice the variable a from index 3 to the end\n",
    "print(a[3:])"
   ]
  },
  {
   "cell_type": "code",
   "execution_count": null,
   "metadata": {
    "colab": {
     "base_uri": "https://localhost:8080/"
    },
    "id": "KnTQEwKWQa47",
    "outputId": "74ddf3cb-3de8-46fc-fe43-6bc0485d255b"
   },
   "outputs": [],
   "source": [
    "# Example: slice the variable a from the beginning till the index 7\n",
    "print(a[:7])"
   ]
  },
  {
   "cell_type": "markdown",
   "metadata": {
    "id": "DmOTdk0dQ9SC"
   },
   "source": [
    "We can also access the characters with a specified stride. For example:"
   ]
  },
  {
   "cell_type": "code",
   "execution_count": null,
   "metadata": {
    "colab": {
     "base_uri": "https://localhost:8080/"
    },
    "id": "TrD1ga6oQWI0",
    "outputId": "4d27b417-d527-45c2-a8ba-932fd83cdd4c"
   },
   "outputs": [],
   "source": [
    "# Example: acess every third charachter\n",
    "print(a[0:14:3])"
   ]
  },
  {
   "cell_type": "markdown",
   "metadata": {
    "id": "xE8LpxyjRbSN"
   },
   "source": [
    "In general if we have an index such as `[a:b:c]`, `a` defines the beginning, `b` defines the end, and `c` defines the step. In the example above since we are printing the whole string we can omit the two index numbers and keep the two colons within the syntax to achieve the same result:"
   ]
  },
  {
   "cell_type": "code",
   "execution_count": null,
   "metadata": {
    "colab": {
     "base_uri": "https://localhost:8080/"
    },
    "id": "3i6bfLmlRVrW",
    "outputId": "5cf50ff1-bcee-4162-8018-bd20b8137deb"
   },
   "outputs": [],
   "source": [
    "# Example: acess every third charachter\n",
    "print(a[::3])"
   ]
  },
  {
   "cell_type": "markdown",
   "metadata": {
    "id": "myAEeiHNtnq_"
   },
   "source": [
    "## Dictionaries"
   ]
  },
  {
   "cell_type": "markdown",
   "metadata": {
    "id": "H_14pCvT-zxs"
   },
   "source": [
    "In previous sections we learned about Python Lists and how powerful they are. In this section we learn another data type in Python called *dictionary*. Dictionaries and their powerful implementations are part of what makes Python so effective and superior. Like lists they can be easily changed, can be shrunk and grown at runtime. They shrink and grow without the necessity of making copies. Dictionaries can be contained in lists and vice versa."
   ]
  },
  {
   "cell_type": "markdown",
   "metadata": {
    "id": "VKNY2xtt_Sye"
   },
   "source": [
    "A dictionary can be defined by enclosing a comma-separated list of key-value pairs in curly braces ({}). A colon (:) separates each key from its associated value:\n",
    "\n",
    "```\n",
    "dic = {\n",
    "            <key1>:<value1>,\n",
    "            <key2>:<value2>,\n",
    "            .\n",
    "            .\n",
    "            .\n",
    "            <keyn>:<valuen>\n",
    "            }\n",
    "```\n",
    "\n",
    "For example:\n"
   ]
  },
  {
   "cell_type": "code",
   "execution_count": null,
   "metadata": {
    "id": "U-MSEUYI_5Eh"
   },
   "outputs": [],
   "source": [
    "Movie = {\n",
    "  \"name\": \"Twin Peaks\",\n",
    "  \"director\": \"David Lynch\",\n",
    "  \"year\": 1990\n",
    "}"
   ]
  },
  {
   "cell_type": "code",
   "execution_count": null,
   "metadata": {
    "id": "6lUXIgS8q_Rg"
   },
   "outputs": [],
   "source": [
    "Movie.update?"
   ]
  },
  {
   "cell_type": "markdown",
   "metadata": {
    "id": "d3nK1weiAx1j"
   },
   "source": [
    "Similar to different methods that we learnt to access or modify elements in a List there are methods to modify or access keys and items in a *dictionary* as well. To access the elements in the *dictionary* we can use *item()* or *keys()*. Here are some examples:"
   ]
  },
  {
   "cell_type": "code",
   "execution_count": null,
   "metadata": {
    "colab": {
     "base_uri": "https://localhost:8080/"
    },
    "id": "LQdLgrmwBGzz",
    "outputId": "af33d6c3-c994-4123-f5ed-43b645cc690c"
   },
   "outputs": [],
   "source": [
    "# keys() return all the keys in the dictionary\n",
    "print('all the keys in the Movie dictionary:', Movie.keys())\n",
    "# items() returns a list of tuple pairs (Keys, Value) in the dictionary\n",
    "print('all the items in the Movie dictionary:', Movie.items())"
   ]
  },
  {
   "cell_type": "markdown",
   "metadata": {
    "id": "Dt4pr4KBCVNu"
   },
   "source": [
    "Other examples of methods to modify a dictionary include *get()*, *copy()*, *update()*, *pop()*, etc.\n",
    "\n",
    "Do the following exercises using these methods to understand them better."
   ]
  },
  {
   "cell_type": "markdown",
   "metadata": {
    "id": "V1w1nt7xtu10"
   },
   "source": [
    "### Exercises (dictionaries)"
   ]
  },
  {
   "cell_type": "markdown",
   "metadata": {
    "id": "R3XLrN_qvbGo"
   },
   "source": [
    "1- Use the `get` method to print the value of the \"name\" of the Movie dictionary."
   ]
  },
  {
   "cell_type": "code",
   "execution_count": null,
   "metadata": {
    "id": "nNZQtidr1qE5"
   },
   "outputs": [],
   "source": []
  },
  {
   "cell_type": "markdown",
   "metadata": {
    "id": "lQ9reAAqvrAc"
   },
   "source": [
    "2- Change the year from 1990 to \"1991\"."
   ]
  },
  {
   "cell_type": "code",
   "execution_count": null,
   "metadata": {
    "id": "NfL5jUhc2HcV"
   },
   "outputs": [],
   "source": []
  },
  {
   "cell_type": "markdown",
   "metadata": {
    "id": "9k2T5_2uvX1V"
   },
   "source": [
    "3- Add the key/value pair \"genre\" : \"mystery/drama/horror\" to the Movie dictionary."
   ]
  },
  {
   "cell_type": "code",
   "execution_count": null,
   "metadata": {
    "id": "Q37fs5WH4VnE"
   },
   "outputs": [],
   "source": []
  },
  {
   "cell_type": "markdown",
   "metadata": {
    "id": "pToyetRnxP62"
   },
   "source": [
    "4- Use the pop method to remove \"genre\" from the Movie dictionary and return it to the screen."
   ]
  },
  {
   "cell_type": "code",
   "execution_count": null,
   "metadata": {
    "id": "4h4aEqtp4gCO"
   },
   "outputs": [],
   "source": []
  },
  {
   "cell_type": "code",
   "execution_count": null,
   "metadata": {},
   "outputs": [],
   "source": []
  },
  {
   "cell_type": "code",
   "execution_count": null,
   "metadata": {},
   "outputs": [],
   "source": []
  },
  {
   "cell_type": "markdown",
   "metadata": {},
   "source": [
    "### Sets and Tuples\n",
    "\n",
    "In addition to dictionaries and lists, there exist two more data types in python: sets and tuples.\n",
    "\n",
    "* Tuples are used to store multiple items in a single variable. A tuple is a collection which is ordered and unchangeable.\n",
    "\n",
    "* However, sets are unordered. Set elements are unique. Duplicate elements are not allowed."
   ]
  },
  {
   "cell_type": "code",
   "execution_count": null,
   "metadata": {},
   "outputs": [],
   "source": [
    "sample_set = set((3,4,5,6))"
   ]
  },
  {
   "cell_type": "code",
   "execution_count": null,
   "metadata": {},
   "outputs": [],
   "source": [
    "sample_set = {3,4,5,6}"
   ]
  },
  {
   "cell_type": "code",
   "execution_count": null,
   "metadata": {},
   "outputs": [],
   "source": [
    "type(sample_set)"
   ]
  },
  {
   "cell_type": "code",
   "execution_count": null,
   "metadata": {},
   "outputs": [],
   "source": [
    "x = [0,3,7,3,7,4,4,5]\n",
    "\n",
    "x = set(x)"
   ]
  },
  {
   "cell_type": "code",
   "execution_count": null,
   "metadata": {},
   "outputs": [],
   "source": [
    "x"
   ]
  },
  {
   "cell_type": "code",
   "execution_count": null,
   "metadata": {},
   "outputs": [],
   "source": [
    "string = \"Learning Python is very easy!\"\n",
    "\n",
    "print(list(string))\n",
    "print(set(string))"
   ]
  },
  {
   "cell_type": "code",
   "execution_count": null,
   "metadata": {},
   "outputs": [],
   "source": [
    "thistuple = (\"apple\", \"banana\", \"cherry\")\n",
    "print(thistuple)"
   ]
  },
  {
   "cell_type": "code",
   "execution_count": null,
   "metadata": {},
   "outputs": [],
   "source": [
    "thistuple = (\"apple\", \"banana\", \"cherry\", \"apple\", \"cherry\")\n",
    "print(thistuple)"
   ]
  },
  {
   "cell_type": "code",
   "execution_count": null,
   "metadata": {},
   "outputs": [],
   "source": [
    "thistuple = (\"apple\", \"banana\", \"cherry\")\n",
    "print(len(thistuple))"
   ]
  },
  {
   "cell_type": "markdown",
   "metadata": {
    "id": "7lnNC9YOTb-7"
   },
   "source": [
    "## Operators"
   ]
  },
  {
   "cell_type": "markdown",
   "metadata": {
    "id": "wk_fAL6KQnIq"
   },
   "source": [
    "Python supports many different types of operators such as: Arithmetic operators, Logical operators, Comparison operators, etc. Let's clarify what an operator is with an example. In the *expression* `\"12*7\"`, `'*'` is the *operator* and `'12'` and `'7'` are *operands*. Below we discuss some of these operators that are specifically important for data analysis. "
   ]
  },
  {
   "cell_type": "markdown",
   "metadata": {
    "id": "TRLxCBTGd2TB"
   },
   "source": [
    "### Arithmetic operators"
   ]
  },
  {
   "cell_type": "markdown",
   "metadata": {
    "id": "LMmOKSiphEoQ"
   },
   "source": [
    "As the name suggests, arithmetic operators in Python work with numbers and make all the traditional algebraic operations easily accessible."
   ]
  },
  {
   "cell_type": "markdown",
   "metadata": {
    "id": "cyk56vbvd50t"
   },
   "source": [
    "|Operator| Description| Example\n",
    "|---|-|-\n",
    "| + Addition | Adds values| a + b\n",
    "| - Substraction | Substracts right hand operand from left hand operand | a - b\n",
    "| * Multiplication | Multiplies values | a * b\n",
    "| / Division | Divides left hand operand by a right hand operand | a / b\n",
    "| ** Power | Power calculation | a ** 2 \n",
    "| % Modulus |  Returns the remainder of division of  left hand operand to right hand operand| a % b  \n",
    "| // Floor division |  Divides and rounds down to nearest whole number| a // b  \n"
   ]
  },
  {
   "cell_type": "code",
   "execution_count": null,
   "metadata": {},
   "outputs": [],
   "source": [
    "10//3"
   ]
  },
  {
   "cell_type": "code",
   "execution_count": null,
   "metadata": {},
   "outputs": [],
   "source": [
    "10%3"
   ]
  },
  {
   "cell_type": "code",
   "execution_count": null,
   "metadata": {},
   "outputs": [],
   "source": [
    "x = 10\n",
    "y = (x//3)*3+(x%3)\n",
    "print(y)"
   ]
  },
  {
   "cell_type": "markdown",
   "metadata": {
    "id": "mvdaAQGPy2Ll"
   },
   "source": [
    "### Logical operators"
   ]
  },
  {
   "cell_type": "markdown",
   "metadata": {
    "id": "qsKwl1jEhqKO"
   },
   "source": [
    "Logical operators are part of Boolean algebra and work with two values, either `True` (1) or `False` (0)."
   ]
  },
  {
   "cell_type": "markdown",
   "metadata": {
    "id": "1TgOJXsxy5Fo"
   },
   "source": [
    "|Operator | Description | Example\n",
    "|----|-|-\n",
    "| not | reverses the logical state | \"\"`not a = False`\" if a = True \n",
    "| and| expression is true if and only if all of its operands are true | \"`a and b =True`\" if a = True and b = True\n",
    "|or| expression is true if and only if one or more of its operands is true | \"`a or b =True`\" if a = True or b = True"
   ]
  },
  {
   "cell_type": "markdown",
   "metadata": {
    "id": "hQvnZgkwijIl"
   },
   "source": [
    "### Comparison operators"
   ]
  },
  {
   "cell_type": "markdown",
   "metadata": {
    "id": "EyMDJS2Wil-2"
   },
   "source": [
    "Comparison operators are used to compare values. The outcome of comparison operators is either `True` or `False`."
   ]
  },
  {
   "cell_type": "markdown",
   "metadata": {
    "id": "in65lfG4jcbu"
   },
   "source": [
    "|Operator|Description|Example|\n",
    "|---|-|-|\n",
    "|< | less than | a < b|\n",
    "|<= | less or equal | a <= b|\n",
    "|>| greater than | a > b|\n",
    "|>=| greater or equal | a >= b|\n",
    "| == | equal | a == b|\n",
    "|!=| not equal| a != b|\n"
   ]
  },
  {
   "cell_type": "markdown",
   "metadata": {
    "id": "sHn8BtsRVESY"
   },
   "source": [
    "We often use logic operators quite naturally, although we don’t realize it. E.g. if we say verbally “give me the results for all animals that were equal to or younger than 2 weeks”, than we can translate this in a code: r2 = r(age<=2) assuming that ‘age’ is an array that contains the age information in weeks for all animals and r contains the results for all animals."
   ]
  },
  {
   "cell_type": "code",
   "execution_count": null,
   "metadata": {
    "colab": {
     "base_uri": "https://localhost:8080/"
    },
    "id": "we-7LyyCdYc-",
    "outputId": "2101f03d-d942-4131-add4-78af57ea7d53"
   },
   "outputs": [],
   "source": [
    "a = 6\n",
    "b = 7\n",
    "c = 42\n",
    "print(1, a == 6)\n",
    "print(2, a == 7)\n",
    "print(3, a == 6 and b == 7)\n",
    "print(4, a == 7 and b == 7)\n",
    "print(5, not a == 7 and b == 7)\n",
    "print(6, a == 7 or b == 7)\n",
    "print(7, a == 7 or b == 6)\n",
    "print(8, not (a == 7 and b == 6))\n",
    "print(9, not a == 7 and b == 6)"
   ]
  },
  {
   "cell_type": "markdown",
   "metadata": {
    "id": "w4j_pC8egbeV"
   },
   "source": [
    "## If statement and loops"
   ]
  },
  {
   "cell_type": "markdown",
   "metadata": {
    "id": "Hk36sUR3SosA"
   },
   "source": [
    "### If statement"
   ]
  },
  {
   "cell_type": "markdown",
   "metadata": {
    "id": "U65DRWohgd0z"
   },
   "source": [
    "In conditional statements we use a logical outcome to decide how to proceed. Consider the following lines of code where we check whether the value stored in the variable r is larger than a threshold value. Depending on the outcome we can proceed with different actions i.e. we condition the next steps of our program on the value of the variable ‘r’."
   ]
  },
  {
   "cell_type": "code",
   "execution_count": null,
   "metadata": {
    "colab": {
     "base_uri": "https://localhost:8080/"
    },
    "id": "8_JHltBAg68I",
    "outputId": "5207f8b7-ed64-455d-de8e-94e8004191bd"
   },
   "outputs": [],
   "source": [
    "r = 2.4\n",
    "if r > 2.4:\n",
    "    event = 1    \n",
    "elif r == 2.4:\n",
    "    event = 2\n",
    "else:\n",
    "    event = 0\n",
    "print('event is ', event)"
   ]
  },
  {
   "cell_type": "markdown",
   "metadata": {
    "id": "WmEbf6_6kHo0"
   },
   "source": [
    "The basic form of an if-statement is as follows:"
   ]
  },
  {
   "cell_type": "markdown",
   "metadata": {
    "id": "Xqn9230Ys4XB"
   },
   "source": [
    "```\n",
    "if condition:\n",
    "    statement1 # will be done if condition is True\n",
    "else:\n",
    "    statement2 # will be done if condition is False\n",
    "\n",
    "```"
   ]
  },
  {
   "cell_type": "markdown",
   "metadata": {
    "id": "rwQekUbpleh1"
   },
   "source": [
    "**Note** Make sure to always put \" : \" after `condition` and `else`.\n",
    "\n"
   ]
  },
  {
   "cell_type": "markdown",
   "metadata": {
    "id": "_DZAhNsDQWiA"
   },
   "source": [
    "### Loops"
   ]
  },
  {
   "cell_type": "markdown",
   "metadata": {
    "id": "WjLQHugVmd0m"
   },
   "source": [
    "It often happens that you want to repeat the same analysis repetitively. For example you have different datasets and you want to do the analysis X on each of them. One way to do that is by using the `for` statement. Here is the basic syntax for doing that:"
   ]
  },
  {
   "cell_type": "markdown",
   "metadata": {
    "id": "JWnG2uaStiNY"
   },
   "source": [
    "```\n",
    "for variable_name in list_of_variable_name: # initial a loop\n",
    "    statement  # body\n",
    "```"
   ]
  },
  {
   "cell_type": "markdown",
   "metadata": {
    "id": "k6l4kpKAr07Z"
   },
   "source": [
    "For example write a code to print the square of all the integers between `1` and `9`."
   ]
  },
  {
   "cell_type": "code",
   "execution_count": null,
   "metadata": {},
   "outputs": [],
   "source": [
    "x = [1,2,3]\n",
    "\n",
    "for i in x:\n",
    "    print(i)"
   ]
  },
  {
   "cell_type": "code",
   "execution_count": null,
   "metadata": {
    "colab": {
     "base_uri": "https://localhost:8080/"
    },
    "id": "Pcy5bcb2ryRX",
    "outputId": "0d24da67-84f2-4129-dbc8-a32dd9a96d48",
    "tags": []
   },
   "outputs": [],
   "source": [
    "for i in range(1,10,1):\n",
    "    print('square of ',i, ' is ', i**2)"
   ]
  },
  {
   "cell_type": "markdown",
   "metadata": {},
   "source": [
    "The built-in `range(start_value, stop_value, step)` statement returns a list of increasing or decreasing numbers. "
   ]
  },
  {
   "cell_type": "code",
   "execution_count": null,
   "metadata": {},
   "outputs": [],
   "source": [
    "for i in range(10):\n",
    "    print('square of ',i, ' is ', i*i)"
   ]
  },
  {
   "cell_type": "code",
   "execution_count": null,
   "metadata": {},
   "outputs": [],
   "source": [
    "my_list = [0,3,5,4,2,7]\n",
    "\n",
    "for i in range(len(my_list)):\n",
    "    j = my_list[i]\n",
    "    print('square of ',j, ' is ', j*j)"
   ]
  },
  {
   "cell_type": "markdown",
   "metadata": {
    "id": "BeNCUX1dSosD"
   },
   "source": [
    "### Exercises (If statement and Loops)"
   ]
  },
  {
   "cell_type": "markdown",
   "metadata": {
    "id": "zeraJ51oSosD"
   },
   "source": [
    "1- Write a Python program to count the number of even and odd numbers from a series of numbers.\n",
    "```\n",
    "sample_list = [2, 3, 4, 5, 8, 2, 9]\n",
    "```"
   ]
  },
  {
   "cell_type": "code",
   "execution_count": null,
   "metadata": {
    "id": "O4DksbuykogD"
   },
   "outputs": [],
   "source": []
  },
  {
   "cell_type": "markdown",
   "metadata": {
    "id": "E6vNclhDSosD"
   },
   "source": [
    "2- Write a Python program to get the Fibonacci series between 0 to 50.\n",
    "\n",
    "hint: The Fibonacci Sequence is the series of numbers :\n",
    "0, 1, 1, 2, 3, 5, 8, 13, 21, .... \n",
    "Every next number is found by adding up the two numbers before it."
   ]
  },
  {
   "cell_type": "code",
   "execution_count": null,
   "metadata": {},
   "outputs": [],
   "source": []
  },
  {
   "cell_type": "markdown",
   "metadata": {},
   "source": [
    "3- Note these are the \"list\" exercises. Solve these, by using if statements and loops:\n",
    "\n",
    "3.a. Write a Python program to sum all the items in a list.\n",
    "\n",
    "3.b. Write a Python program to get the largest and the smallest number from a list.\n",
    "\n",
    "3.c. Create a list of integer nember less than 10 and call it `a`. "
   ]
  },
  {
   "cell_type": "code",
   "execution_count": null,
   "metadata": {},
   "outputs": [],
   "source": []
  },
  {
   "cell_type": "code",
   "execution_count": null,
   "metadata": {},
   "outputs": [],
   "source": []
  },
  {
   "cell_type": "code",
   "execution_count": null,
   "metadata": {},
   "outputs": [],
   "source": []
  },
  {
   "cell_type": "markdown",
   "metadata": {},
   "source": [
    "### While loop"
   ]
  },
  {
   "cell_type": "code",
   "execution_count": null,
   "metadata": {},
   "outputs": [],
   "source": [
    "i = 0\n",
    "while i<5:\n",
    "    i=i+1\n",
    "    print(10*i)"
   ]
  },
  {
   "cell_type": "markdown",
   "metadata": {},
   "source": [
    "## Inputs"
   ]
  },
  {
   "cell_type": "code",
   "execution_count": null,
   "metadata": {
    "id": "PEagxbkwlbJK"
   },
   "outputs": [],
   "source": [
    "print(\"How old are you?\") \n",
    "age = float(input()) #What if we don't include float function\n",
    "print (\"How tall are you?\")\n",
    "height = float(input())\n",
    "print (\"How much do you weigh?\")\n",
    "weight = float(input())\n",
    "\n",
    "print (\"So, you're %f old, %f tall and %f heavy.\" % (age, height, weight))"
   ]
  },
  {
   "cell_type": "markdown",
   "metadata": {
    "id": "XoVmxIlhQjdQ"
   },
   "source": [
    "## Functions"
   ]
  },
  {
   "cell_type": "markdown",
   "metadata": {
    "id": "yUociwNmaILe"
   },
   "source": [
    "Function is a piece of code written for a specified task. For example writing a function which calculates the mean of a bunch of values. Functions are very helpful in programming because they can be written once and be used infinite times. Learning how to write an efficient function makes programming like playing lego; For solving any complicated problem we need to break it down to pieces and write a function for each piece. At the end putting these functions together like legos gives us the solution to the problem.\n",
    "\n",
    "Here is an example of a Python function:"
   ]
  },
  {
   "cell_type": "code",
   "execution_count": null,
   "metadata": {},
   "outputs": [],
   "source": [
    "def greeting(name):\n",
    "    output = 'Hello ' + name\n",
    "    return output\n",
    "print(greeting('aksfdjasşlkdf'))"
   ]
  },
  {
   "cell_type": "code",
   "execution_count": null,
   "metadata": {
    "colab": {
     "base_uri": "https://localhost:8080/"
    },
    "id": "fVSiHNtWcQ4a",
    "outputId": "8746e371-b2ef-446f-80e0-acf0b361124b"
   },
   "outputs": [],
   "source": [
    "def greeting(name): # function header\n",
    "    # docstring: explanation of what function is about. for example here:\n",
    "    \"\"\"Returns a greeting \n",
    "    given a name.\"\"\"\n",
    "    #----- body of the function -------#\n",
    "    message = \"Hello lovely \" + name + \".\\n\"\n",
    "    message = message + \"You are the best!\"\n",
    "    #----------------------------------#\n",
    "    return message # return statement\n",
    "\n",
    "print(greeting('Fuat'))"
   ]
  },
  {
   "cell_type": "markdown",
   "metadata": {
    "id": "cGcTXp9zdz4E"
   },
   "source": [
    "- Function header\n"
   ]
  },
  {
   "cell_type": "markdown",
   "metadata": {
    "id": "xjlOr2RyedS1"
   },
   "source": [
    "Function begins with the keyword **def** followed by the function name and the inputs (or arguments) of the function. In the example above, the name of the function is *greeting* and the function argument is *name*."
   ]
  },
  {
   "cell_type": "markdown",
   "metadata": {
    "id": "DGTG9PUxfGbr"
   },
   "source": [
    "- Function docstring"
   ]
  },
  {
   "cell_type": "markdown",
   "metadata": {
    "id": "R9JLoeYXqFMd"
   },
   "source": [
    "Function docstring is used to explain what the function does. The convention is to use \"\"\"triple double quotes\"\"\" around docstrings. "
   ]
  },
  {
   "cell_type": "markdown",
   "metadata": {
    "id": "-Ip_J-N8rEiZ"
   },
   "source": [
    "- Function body"
   ]
  },
  {
   "cell_type": "markdown",
   "metadata": {
    "id": "fbo5e3VlrHDT"
   },
   "source": [
    "Function body consists of what the function is supposed to do. It gets executed every time the function is called."
   ]
  },
  {
   "cell_type": "markdown",
   "metadata": {
    "id": "K9bbRQ7jrZfT"
   },
   "source": [
    "- Return statement"
   ]
  },
  {
   "cell_type": "markdown",
   "metadata": {
    "id": "r6UFw_3ErwA7"
   },
   "source": [
    "Return exits a function, optionally passing back an expression to the caller. A return statement with no arguments is the same as return None."
   ]
  },
  {
   "cell_type": "markdown",
   "metadata": {
    "id": "GKVkEywosPKZ"
   },
   "source": [
    "**Example** Write a function which takes two inputs 'a' and 'b' and return the sum of a and b."
   ]
  },
  {
   "cell_type": "code",
   "execution_count": null,
   "metadata": {
    "colab": {
     "base_uri": "https://localhost:8080/"
    },
    "id": "R-wIu2yasd_a",
    "outputId": "497b10f9-f27b-4c2d-de1a-45562482d23d",
    "tags": []
   },
   "outputs": [],
   "source": [
    "def sum_two_number(a,b):\n",
    "    \"\"\"Returns sum of two values\"\"\"\n",
    "    return a + b\n",
    "\n",
    "print(sum_two_number(3,5))"
   ]
  },
  {
   "cell_type": "markdown",
   "metadata": {
    "id": "r3Ap7Iz3SosG"
   },
   "source": [
    "### Exercises (Functions)"
   ]
  },
  {
   "cell_type": "markdown",
   "metadata": {
    "id": "mFEwFGpNSosH"
   },
   "source": [
    "1- Write a Python function to find the Max of three numbers.\n",
    "\n",
    "hint: first write a function to find the Max of two number. Then use this function to find the Max of three numbers."
   ]
  },
  {
   "cell_type": "code",
   "execution_count": null,
   "metadata": {
    "id": "VmNIcLVtKGVQ"
   },
   "outputs": [],
   "source": []
  },
  {
   "cell_type": "markdown",
   "metadata": {
    "id": "9KZS0W-bSosH"
   },
   "source": [
    "2- Write a Python function to multiply all the numbers in a list.\n",
    "\n",
    "hint: use a for loop\n",
    "```\n",
    "sample_list = [8, 2, 3, -1, 7]\n",
    "```\n"
   ]
  },
  {
   "cell_type": "code",
   "execution_count": null,
   "metadata": {
    "id": "b8VlSfYtLnZS"
   },
   "outputs": [],
   "source": []
  },
  {
   "cell_type": "markdown",
   "metadata": {
    "id": "Xy1PiQe6SosH"
   },
   "source": [
    "3- Write a Python function that takes a list and returns a new list with unique elements of the first list.\n",
    "\n",
    "hint1: use for loop and if statement together.\n",
    "\n",
    "hint2: count() method counts a specific element in a list. \n",
    "\n",
    "\n",
    "```\n",
    "sample_list : [1,1,3,3,3,3,4,4,4,5,7,7,7]\n",
    "unique_list : [1, 3, 4, 5, 7]\n",
    "```"
   ]
  },
  {
   "cell_type": "code",
   "execution_count": null,
   "metadata": {
    "id": "VPFNRqHVMDyG"
   },
   "outputs": [],
   "source": [
    "def unique(x):\n",
    "    return list(set(x))\n",
    "\n",
    "sample_list = [1,1,3,3,3,3,4,4,4,5,7,7,7]\n",
    "\n",
    "print(unique(sample_list))"
   ]
  },
  {
   "cell_type": "code",
   "execution_count": 3,
   "metadata": {},
   "outputs": [
    {
     "name": "stdout",
     "output_type": "stream",
     "text": [
      "[1, 3, 4, 5, 7]\n"
     ]
    }
   ],
   "source": [
    "def unique(x):\n",
    "    \n",
    "    dynamic_list = x.copy()\n",
    "    unique_list = []\n",
    "    \n",
    "    for i in x:\n",
    "        if dynamic_list.count(i) > 1:\n",
    "            dynamic_list.remove(i)\n",
    "            \n",
    "        else:\n",
    "            unique_list.append(i)\n",
    "    return unique_list\n",
    "\n",
    "sample_list = [1,1,3,3,3,3,4,4,4,5,7,7,7]\n",
    "\n",
    "print(unique(sample_list))"
   ]
  },
  {
   "cell_type": "code",
   "execution_count": 9,
   "metadata": {},
   "outputs": [
    {
     "name": "stdout",
     "output_type": "stream",
     "text": [
      "[1, 3, 4, 5, 7]\n"
     ]
    }
   ],
   "source": [
    "def unique(x):\n",
    "    unique_list = []\n",
    "    for i in x:\n",
    "        if i not in unique_list:\n",
    "            unique_list.append(i)\n",
    "            \n",
    "    return unique_list\n",
    "sample_list = [1,1,3,3,3,3,4,4,4,5,7,7,7]\n",
    "\n",
    "print(unique(sample_list))"
   ]
  },
  {
   "cell_type": "code",
   "execution_count": 7,
   "metadata": {},
   "outputs": [
    {
     "name": "stdout",
     "output_type": "stream",
     "text": [
      "[1, 3, 4, 5, 7]\n"
     ]
    }
   ],
   "source": [
    "sample_list = [1,1,3,3,3,3,4,4,4,5,7,7,7]\n",
    "\n",
    "def unique(x):\n",
    "    unique_list = []\n",
    "    \n",
    "    for i in x:\n",
    "        unique_list.append(i)\n",
    "        if unique_list.count(i) > 1:\n",
    "            unique_list.remove(i)\n",
    "        else:\n",
    "            continue\n",
    "            \n",
    "    return unique_list\n",
    "    \n",
    "print(unique(sample_list))"
   ]
  },
  {
   "cell_type": "markdown",
   "metadata": {
    "id": "oPvbS8GSSosH"
   },
   "source": [
    "4- Write a Python function that takes a number as a parameter and check the number is prime or not.\n",
    "\n",
    "hint: a prime number (or a prime) is a natural number greater than 1 and that has no positive divisors other than 1 and itself. "
   ]
  },
  {
   "cell_type": "code",
   "execution_count": 13,
   "metadata": {
    "id": "mWz555mBQ3Zd"
   },
   "outputs": [
    {
     "name": "stdout",
     "output_type": "stream",
     "text": [
      "False\n"
     ]
    }
   ],
   "source": [
    "def is_prime(x):\n",
    "    is_prime = True\n",
    "\n",
    "    if x == 1:\n",
    "        is_prime = False\n",
    "    else:\n",
    "        for i in range(2,x):\n",
    "            if x%i == 0:\n",
    "                is_prime = False\n",
    "                break\n",
    "                \n",
    "    return is_prime\n",
    "\n",
    "print(is_prime(14))"
   ]
  },
  {
   "cell_type": "markdown",
   "metadata": {
    "id": "N5B1fjaBupTS"
   },
   "source": [
    "## Files"
   ]
  },
  {
   "cell_type": "markdown",
   "metadata": {
    "id": "L8GItXpoSosI"
   },
   "source": [
    "It is quite handy in Python to read and write files. Let's see how it works through an example:"
   ]
  },
  {
   "cell_type": "code",
   "execution_count": 14,
   "metadata": {
    "id": "vsOw8sOzSosI"
   },
   "outputs": [],
   "source": [
    "# define the file name\n",
    "filename = 'example.txt' \n",
    "# create and open the file to modify. 'w' stands for writing mode.\n",
    "f = open(filename, 'w')\n",
    "# write in the open file f\n",
    "f.write(\"6 words story:\\n\")\n",
    "f.write(\"For sale: baby shoes, never worn.\")\n",
    "# close the file\n",
    "f.close()"
   ]
  },
  {
   "cell_type": "markdown",
   "metadata": {
    "id": "5v2o9QcbSosJ"
   },
   "source": [
    "Running the example above, we create a file named \"example.txt\". This file includes two lines text. The first line is `6 words story` and the second line is `'For sale: baby shoes, never worn.'`."
   ]
  },
  {
   "cell_type": "markdown",
   "metadata": {
    "id": "sI3CXqXwSosJ"
   },
   "source": [
    "Now let's read the file that we just created:"
   ]
  },
  {
   "cell_type": "code",
   "execution_count": 15,
   "metadata": {
    "id": "QkiosG4FSosJ"
   },
   "outputs": [],
   "source": [
    "# define the file name\n",
    "filename = 'example.txt' \n",
    "# open the file to read. 'r' stands for reading mode.\n",
    "f = open(filename, 'r')\n",
    "# read the content of the file\n",
    "data = f.read()\n",
    "# close the file\n",
    "f.close()"
   ]
  },
  {
   "cell_type": "code",
   "execution_count": 16,
   "metadata": {
    "id": "GBbOL__SSosK",
    "outputId": "f5555298-afd6-4866-fc9b-eb31bdf0077f"
   },
   "outputs": [
    {
     "name": "stdout",
     "output_type": "stream",
     "text": [
      "6 words story:\n",
      "For sale: baby shoes, never worn.\n"
     ]
    }
   ],
   "source": [
    "print(data)"
   ]
  },
  {
   "cell_type": "code",
   "execution_count": 17,
   "metadata": {},
   "outputs": [
    {
     "data": {
      "text/plain": [
       "48"
      ]
     },
     "execution_count": 17,
     "metadata": {},
     "output_type": "execute_result"
    }
   ],
   "source": [
    "len(data)"
   ]
  },
  {
   "cell_type": "code",
   "execution_count": 18,
   "metadata": {
    "id": "zGV5VW-nSosL",
    "outputId": "cc370326-9236-49c6-f174-305fa48a9a11"
   },
   "outputs": [
    {
     "data": {
      "text/plain": [
       "['6 words story:', 'For sale: baby shoes, never worn.']"
      ]
     },
     "execution_count": 18,
     "metadata": {},
     "output_type": "execute_result"
    }
   ],
   "source": [
    "# create a list where each element is one line of our file\n",
    "data.splitlines()"
   ]
  },
  {
   "cell_type": "markdown",
   "metadata": {
    "id": "fYMK1bh0SosL"
   },
   "source": [
    "- count the number of words in the second line (is it really 6 words?)"
   ]
  },
  {
   "cell_type": "code",
   "execution_count": 22,
   "metadata": {
    "id": "FfNcsvfuSosM"
   },
   "outputs": [
    {
     "name": "stdout",
     "output_type": "stream",
     "text": [
      "For sale: baby shoes, never worn.\n"
     ]
    }
   ],
   "source": [
    "# defining the second line as a new variable\n",
    "second_line = data.splitlines()[1]\n",
    "print(second_line)"
   ]
  },
  {
   "cell_type": "code",
   "execution_count": 23,
   "metadata": {},
   "outputs": [
    {
     "name": "stdout",
     "output_type": "stream",
     "text": [
      "['For', 'sale:', 'baby', 'shoes,', 'never', 'worn.']\n",
      "6\n"
     ]
    }
   ],
   "source": [
    "# separate all the words\n",
    "words_second_line = second_line.split(' ')\n",
    "print(words_second_line)\n",
    "# print the number of words\n",
    "print(len(words_second_line))"
   ]
  },
  {
   "cell_type": "code",
   "execution_count": null,
   "metadata": {},
   "outputs": [],
   "source": []
  }
 ],
 "metadata": {
  "colab": {
   "collapsed_sections": [],
   "name": "Introduction to Python",
   "provenance": []
  },
  "kernelspec": {
   "display_name": "Python 3 (ipykernel)",
   "language": "python",
   "name": "python3"
  },
  "language_info": {
   "codemirror_mode": {
    "name": "ipython",
    "version": 3
   },
   "file_extension": ".py",
   "mimetype": "text/x-python",
   "name": "python",
   "nbconvert_exporter": "python",
   "pygments_lexer": "ipython3",
   "version": "3.11.5"
  },
  "toc-autonumbering": false,
  "toc-showcode": false,
  "toc-showmarkdowntxt": false,
  "toc-showtags": false
 },
 "nbformat": 4,
 "nbformat_minor": 4
}
