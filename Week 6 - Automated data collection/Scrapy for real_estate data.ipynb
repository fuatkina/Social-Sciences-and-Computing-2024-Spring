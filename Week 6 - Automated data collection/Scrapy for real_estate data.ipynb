{
 "cells": [
  {
   "cell_type": "markdown",
   "id": "01801a5e-9b6a-4975-bd9d-ee1b4d131ace",
   "metadata": {
    "tags": []
   },
   "source": [
    "## Scrapy: extracting real estate data from emlakjet\n",
    "\n",
    "\n",
    "While preparing codes in this page, I have utilized following source: https://app.datacamp.com/learn/courses/web-scraping-with-python"
   ]
  },
  {
   "cell_type": "code",
   "execution_count": null,
   "id": "913f0dad-7836-4fd9-8025-e06695dc8608",
   "metadata": {
    "tags": []
   },
   "outputs": [],
   "source": [
    "#pip install scrapy"
   ]
  },
  {
   "cell_type": "code",
   "execution_count": null,
   "id": "2f464d8a-0d0e-4d11-957f-b385ead33404",
   "metadata": {
    "tags": []
   },
   "outputs": [],
   "source": [
    "# Import a scrapy Selector\n",
    "from scrapy import Selector\n",
    "\n",
    "# Import requests\n",
    "import requests\n",
    "\n",
    "url = 'https://www.emlakjet.com/'\n",
    "\n",
    "# Create the string html containing the HTML source\n",
    "html = requests.get(url).content\n",
    "\n",
    "# Create the Selector object sel from html\n",
    "sel = Selector(text = html)\n",
    "\n",
    "# Print out the number of elements in the HTML document\n",
    "print( \"You have found: \", len(sel.xpath('//*')))"
   ]
  },
  {
   "cell_type": "code",
   "execution_count": null,
   "id": "395e5065-817b-4698-8746-40f4f2c5882b",
   "metadata": {
    "scrolled": true,
    "tags": []
   },
   "outputs": [],
   "source": [
    "html"
   ]
  },
  {
   "cell_type": "code",
   "execution_count": null,
   "id": "829c3f5d-ed23-48d5-a76c-d4113c2291ba",
   "metadata": {
    "tags": []
   },
   "outputs": [],
   "source": [
    "type(html)"
   ]
  },
  {
   "cell_type": "code",
   "execution_count": null,
   "id": "63ec1f82-b6c1-41eb-aad0-d28434678143",
   "metadata": {
    "tags": []
   },
   "outputs": [],
   "source": [
    "type(sel)"
   ]
  },
  {
   "cell_type": "code",
   "execution_count": null,
   "id": "2d0dc272-b033-47c3-9eb3-a99e20728959",
   "metadata": {
    "tags": []
   },
   "outputs": [],
   "source": [
    "xpath_for_titles ='//h4'"
   ]
  },
  {
   "cell_type": "code",
   "execution_count": null,
   "id": "9cfff69a-774d-4afa-9a9e-cde8d8831803",
   "metadata": {
    "tags": []
   },
   "outputs": [],
   "source": [
    "sel.xpath(xpath_for_titles).extract()"
   ]
  },
  {
   "cell_type": "code",
   "execution_count": null,
   "id": "500ce4a2-ad44-4142-b8f6-be8d86308315",
   "metadata": {
    "tags": []
   },
   "outputs": [],
   "source": [
    "len(sel.xpath(xpath_for_titles).extract())"
   ]
  },
  {
   "cell_type": "code",
   "execution_count": null,
   "id": "c1522c29-7e85-41af-8fbd-71fb166940b2",
   "metadata": {
    "tags": []
   },
   "outputs": [],
   "source": [
    "xpath_for_titles ='//h4/text()'"
   ]
  },
  {
   "cell_type": "code",
   "execution_count": null,
   "id": "cc9bf4e1-5dbc-41a3-ac5c-ae3d5a8711de",
   "metadata": {
    "tags": []
   },
   "outputs": [],
   "source": [
    "titles = sel.xpath(xpath_for_titles).extract()"
   ]
  },
  {
   "cell_type": "code",
   "execution_count": null,
   "id": "19c4d661-4b3f-46d4-8781-318c9004d532",
   "metadata": {
    "tags": []
   },
   "outputs": [],
   "source": [
    "titles"
   ]
  },
  {
   "cell_type": "code",
   "execution_count": null,
   "id": "67c5ca72-5bfa-41bd-a442-5b3414aaeeb5",
   "metadata": {
    "tags": []
   },
   "outputs": [],
   "source": [
    "url = 'https://www.emlakjet.com/satilik-konut/istanbul-fatih/?max_fiyat=3250000&min_fiyat=1500000'\n",
    "\n",
    "# Create the string html containing the HTML source\n",
    "html = requests.get(url).content\n",
    "\n",
    "# Create the Selector object sel from html\n",
    "sel = Selector(text = html)\n",
    "\n",
    "# Print out the number of elements in the HTML document\n",
    "print( \"You have found: \", len(sel.xpath('//*')))"
   ]
  },
  {
   "cell_type": "markdown",
   "id": "ed87b28e-736f-4501-ad43-423d52c0d643",
   "metadata": {},
   "source": [
    "//*[@id=\"listing-search-wrapper\"]/div[1]/a/div[3]/div/div[1]/h3\n",
    "\n",
    "//*[@id=\"listing-search-wrapper\"]/div[12]/a/div[3]/div/div[1]/h3\n",
    "\n",
    "//*[@id=\"listing-search-wrapper\"]/div[24]/a/div[3]/div/div[1]/h3"
   ]
  },
  {
   "cell_type": "code",
   "execution_count": null,
   "id": "e65b31a4-8b0f-4fc6-bfb1-96dd39db8a07",
   "metadata": {
    "scrolled": true,
    "tags": []
   },
   "outputs": [],
   "source": [
    "xpath_for_titles_of_adverts ='//*[@id=\"listing-search-wrapper\"]/div/a/div[3]/div/div[1]/h3/text()'\n",
    "titles_of_adverts = sel.xpath(xpath_for_titles_of_adverts).extract()\n",
    "titles_of_adverts"
   ]
  },
  {
   "cell_type": "markdown",
   "id": "693ec5d1-fd90-4739-8c2f-ca578f09ab43",
   "metadata": {},
   "source": [
    "### Clean your data"
   ]
  },
  {
   "cell_type": "code",
   "execution_count": null,
   "id": "300dec22-4fc0-4f70-adf6-770ed2e282e2",
   "metadata": {
    "tags": []
   },
   "outputs": [],
   "source": [
    "import re\n",
    "\n",
    "def strip_tags(html):\n",
    "    clean = re.compile('<.*?>')\n",
    "    return re.sub(clean, '', html)\n",
    "\n",
    "# Apply strip_tags to each element in the list\n",
    "cleaned_strings = [strip_tags(html) for html in titles_of_adverts]\n",
    "\n",
    "print(cleaned_strings)"
   ]
  },
  {
   "cell_type": "markdown",
   "id": "cf74e2e5-839e-49b0-a7a8-9a192254f3ec",
   "metadata": {},
   "source": [
    "### Manipulate searchterms and parameters"
   ]
  },
  {
   "cell_type": "code",
   "execution_count": null,
   "id": "49951993-cad3-478c-a157-ae64c626a4e4",
   "metadata": {
    "scrolled": true,
    "tags": []
   },
   "outputs": [],
   "source": [
    "district = input()\n",
    "maxim = input()\n",
    "minim = input()\n",
    "\n",
    "url = 'https://www.emlakjet.com/satilik-konut/istanbul-' + district + '/?max_fiyat=' + maxim + '&min_fiyat=' + minim\n",
    "\n",
    "html = requests.get(url).content\n",
    "\n",
    "sel = Selector(text = html)\n",
    "\n",
    "xpath_for_titles_of_adverts ='//*[@id=\"listing-search-wrapper\"]/div/a/div[3]/div/div[1]/h3'\n",
    "titles_of_adverts = sel.xpath(xpath_for_titles_of_adverts).extract()\n",
    "\n",
    "cleaned_strings = [strip_tags(html) for html in titles_of_adverts]\n",
    "\n",
    "cleaned_strings"
   ]
  },
  {
   "cell_type": "code",
   "execution_count": null,
   "id": "ecbdb79e-526f-423c-85bf-7d93f483556c",
   "metadata": {
    "tags": []
   },
   "outputs": [],
   "source": [
    "district_list = [\"uskudar\", \"fatih\", \"umraniye\"]\n",
    "intervals = [0, 5000000, 10000000, 20000000]\n",
    "\n",
    "output_titles = []\n",
    "\n",
    "for district in district_list:\n",
    "    for i in range(len(intervals)-1):\n",
    "        url = 'https://www.emlakjet.com/satilik-konut/istanbul-' + district + '/?max_fiyat=' + str(intervals[i+1]) + '&min_fiyat=' + str(intervals[i])\n",
    "\n",
    "        html = requests.get(url).content\n",
    "\n",
    "        sel = Selector(text = html)\n",
    "\n",
    "        xpath_for_titles_of_adverts ='//*[@id=\"listing-search-wrapper\"]/div/a/div[3]/div/div[1]/h3/text()'\n",
    "        titles_of_adverts = sel.xpath(xpath_for_titles_of_adverts).extract()\n",
    "        for j in titles_of_adverts:\n",
    "            output_titles.append(j)"
   ]
  },
  {
   "cell_type": "code",
   "execution_count": null,
   "id": "699a734a-4287-43ea-9707-6ec281db0bb2",
   "metadata": {
    "scrolled": true,
    "tags": []
   },
   "outputs": [],
   "source": [
    "output_titles"
   ]
  },
  {
   "cell_type": "code",
   "execution_count": null,
   "id": "c8373212-316f-4d5a-950a-f1c0e89b86a1",
   "metadata": {
    "scrolled": true,
    "tags": []
   },
   "outputs": [],
   "source": [
    "output_titles = [strip_tags(html) for html in output_titles]\n",
    "\n",
    "output_titles"
   ]
  },
  {
   "cell_type": "markdown",
   "id": "55925ab3-ede2-43c2-9d46-3e92b6ddaf0d",
   "metadata": {},
   "source": [
    "### Collect links"
   ]
  },
  {
   "cell_type": "markdown",
   "id": "320d17c1-b89a-469c-ba4e-d844c8a8ec15",
   "metadata": {},
   "source": [
    "//*[@id=\"listing-search-wrapper\"]/div[@class='_3qUI9q']/a"
   ]
  },
  {
   "cell_type": "code",
   "execution_count": null,
   "id": "8066f2a4-19a0-4b7a-b0e6-3d11fb8cdc58",
   "metadata": {
    "tags": []
   },
   "outputs": [],
   "source": [
    "district_list = [\"uskudar\", \"fatih\", \"umraniye\"]\n",
    "intervals = [0, 5000000, 10000000, 20000000]\n",
    "\n",
    "output_for_links = []\n",
    "\n",
    "for district in district_list:\n",
    "    for i in range(len(intervals)-1):\n",
    "        url = 'https://www.emlakjet.com/satilik-konut/istanbul-' + district + '/?max_fiyat=' + str(intervals[i+1]) + '&min_fiyat=' + str(intervals[i])\n",
    "\n",
    "        html = requests.get(url).content\n",
    "\n",
    "        sel = Selector(text = html)\n",
    "        xpath_for_links = \"//*[@id='listing-search-wrapper']/div[@class='_3qUI9q']/a/@href\"\n",
    "        link_list = sel.xpath(xpath_for_links).extract()\n",
    "        for j in link_list:\n",
    "            output_for_links.append(j)"
   ]
  },
  {
   "cell_type": "code",
   "execution_count": null,
   "id": "35c9f709-f459-4e16-92b5-d80dd68770ba",
   "metadata": {
    "scrolled": true,
    "tags": []
   },
   "outputs": [],
   "source": [
    "output_for_links"
   ]
  },
  {
   "cell_type": "code",
   "execution_count": null,
   "id": "521b57a3-e3be-40a3-a30f-42f46366911a",
   "metadata": {
    "tags": []
   },
   "outputs": [],
   "source": [
    "first_part_url = \"https://www.emlakjet.com/\""
   ]
  },
  {
   "cell_type": "code",
   "execution_count": null,
   "id": "c75cfa37-ac3c-4177-9181-fb949df2fa78",
   "metadata": {
    "tags": []
   },
   "outputs": [],
   "source": [
    "adverts_link_merged = []\n",
    "\n",
    "for i in output_for_links:\n",
    "    link = first_part_url + i\n",
    "    adverts_link_merged.append(link)"
   ]
  },
  {
   "cell_type": "code",
   "execution_count": null,
   "id": "91fabdf9-6e1e-41b1-8a8f-44870d6e1453",
   "metadata": {
    "tags": []
   },
   "outputs": [],
   "source": [
    "len(adverts_link_merged)"
   ]
  },
  {
   "cell_type": "markdown",
   "id": "2173be30-4c12-4613-aad8-c21e535aaad4",
   "metadata": {},
   "source": [
    "### Collect prices"
   ]
  },
  {
   "cell_type": "markdown",
   "id": "4232abe9-caa9-4a48-8ebe-8371f8e7e6fd",
   "metadata": {},
   "source": [
    "//*[@id=\"listing-search-wrapper\"]/div[15]/a/div[3]/div/div[3]/div/p/span/span"
   ]
  },
  {
   "cell_type": "code",
   "execution_count": null,
   "id": "5d05b579-e8bb-47d5-a090-e47e0de4556b",
   "metadata": {
    "tags": []
   },
   "outputs": [],
   "source": [
    "district_list = [\"uskudar\", \"fatih\", \"umraniye\"]\n",
    "intervals = [0, 5000000, 10000000, 20000000]\n",
    "\n",
    "output_for_prices = []\n",
    "\n",
    "for district in district_list:\n",
    "    for i in range(len(intervals)-1):\n",
    "        url = 'https://www.emlakjet.com/satilik-konut/istanbul-' + district + '/?max_fiyat=' + str(intervals[i+1]) + '&min_fiyat=' + str(intervals[i])\n",
    "\n",
    "        html = requests.get(url).content\n",
    "\n",
    "        sel = Selector(text = html)\n",
    "        xpath_for_prices = \"//*[@id='listing-search-wrapper']/div/a/div[3]/div/div[3]/div/p/span/span/text()\"\n",
    "        price_list = sel.xpath(xpath_for_prices).extract()\n",
    "        for j in price_list:\n",
    "            output_for_prices.append(j)"
   ]
  },
  {
   "cell_type": "code",
   "execution_count": null,
   "id": "d1b123f2-66e5-47a4-b8ba-adc46a572895",
   "metadata": {
    "scrolled": true,
    "tags": []
   },
   "outputs": [],
   "source": [
    "output_for_prices"
   ]
  },
  {
   "cell_type": "markdown",
   "id": "22e9c66c-bb34-4535-99fa-2364daa821a1",
   "metadata": {},
   "source": [
    "### Create real_estate dataframe"
   ]
  },
  {
   "cell_type": "code",
   "execution_count": null,
   "id": "c5df2ea9-a1a3-49b0-a611-21b617f9f3d1",
   "metadata": {
    "tags": []
   },
   "outputs": [],
   "source": [
    "dict_real_estate = {'title':output_titles, 'price':output_for_prices, 'link': adverts_link_merged}"
   ]
  },
  {
   "cell_type": "code",
   "execution_count": null,
   "id": "6525ccef-114c-4298-a7b8-ab67c2927d04",
   "metadata": {
    "tags": []
   },
   "outputs": [],
   "source": [
    "import pandas as pd"
   ]
  },
  {
   "cell_type": "code",
   "execution_count": null,
   "id": "a550b3d0-7ea8-43a3-8a3a-fee961a4d251",
   "metadata": {
    "tags": []
   },
   "outputs": [],
   "source": [
    "data_real_estate = pd.DataFrame(dict_real_estate)"
   ]
  },
  {
   "cell_type": "code",
   "execution_count": null,
   "id": "9449560b-9cdf-4d32-8445-87b36400e584",
   "metadata": {
    "tags": []
   },
   "outputs": [],
   "source": [
    "data_real_estate"
   ]
  },
  {
   "cell_type": "markdown",
   "id": "79ef486f-4a55-4be7-920f-9d94cb020b64",
   "metadata": {},
   "source": [
    "#### Can we go further?\n",
    "\n",
    "Let's find out building ages for these adverts:\n"
   ]
  },
  {
   "cell_type": "markdown",
   "id": "4578c8dd-55aa-45dd-9168-1615fa3778d5",
   "metadata": {},
   "source": [
    "//*[@id=\"bilgiler\"]/div/div[2]/div/div[1]/div[2]/div[5]/div[2]\n",
    "//*[@id=\"bilgiler\"]/div/div[2]/div/div[1]/div[2]/div[5]/div[2]"
   ]
  },
  {
   "cell_type": "code",
   "execution_count": null,
   "id": "02a0d8f7-829f-458e-ab53-8070248ee0fe",
   "metadata": {
    "tags": []
   },
   "outputs": [],
   "source": [
    "xpath_for_age = \"//*[@id='bilgiler']/div/div[2]/div/div[1]/div[2]/div[5]/div[2]/text()\""
   ]
  },
  {
   "cell_type": "code",
   "execution_count": null,
   "id": "f085202c-2327-444e-8900-1534f75f986e",
   "metadata": {
    "tags": []
   },
   "outputs": [],
   "source": [
    "age_list = []\n",
    "\n",
    "for i in range(len(data_real_estate)):\n",
    "    url = data_real_estate['link'][i]\n",
    "    html = requests.get(url).content\n",
    "    sel = Selector(text = html)\n",
    "    building_age = sel.xpath(xpath_for_age).extract()\n",
    "    for j in building_age:\n",
    "        age_list.append(j)"
   ]
  },
  {
   "cell_type": "code",
   "execution_count": null,
   "id": "39f840c8-0b96-429c-9763-55314d189c86",
   "metadata": {
    "scrolled": true,
    "tags": []
   },
   "outputs": [],
   "source": [
    "age_list"
   ]
  }
 ],
 "metadata": {
  "kernelspec": {
   "display_name": "Python 3 (ipykernel)",
   "language": "python",
   "name": "python3"
  },
  "language_info": {
   "codemirror_mode": {
    "name": "ipython",
    "version": 3
   },
   "file_extension": ".py",
   "mimetype": "text/x-python",
   "name": "python",
   "nbconvert_exporter": "python",
   "pygments_lexer": "ipython3",
   "version": "3.11.5"
  }
 },
 "nbformat": 4,
 "nbformat_minor": 5
}
