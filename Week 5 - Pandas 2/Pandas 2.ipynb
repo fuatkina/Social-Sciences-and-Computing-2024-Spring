{
 "cells": [
  {
   "cell_type": "markdown",
   "id": "structured-thursday",
   "metadata": {},
   "source": [
    "##### VanderPlas, Jake. 2016. Python Data Science Handbook: Essential Tools for Working with Data. O'Reilly Media. Available at: https://jakevdp.github.io/PythonDataScienceHandbook/"
   ]
  },
  {
   "cell_type": "markdown",
   "id": "norman-recipient",
   "metadata": {},
   "source": [
    "## Hierarchical Indexing"
   ]
  },
  {
   "cell_type": "code",
   "execution_count": null,
   "id": "accredited-colorado",
   "metadata": {},
   "outputs": [],
   "source": [
    "import pandas as pd\n",
    "import numpy as np"
   ]
  },
  {
   "cell_type": "code",
   "execution_count": null,
   "id": "valued-practice",
   "metadata": {},
   "outputs": [],
   "source": [
    "# the bad way of multi indexed series\n",
    "\n",
    "index = [('California', 2000), ('California', 2010),\n",
    "         ('New York', 2000), ('New York', 2010),\n",
    "         ('Texas', 2000), ('Texas', 2010)]\n",
    "populations = [33871648, 37253956,\n",
    "               18976457, 19378102,\n",
    "               20851820, 25145561]\n",
    "pop = pd.Series(populations, index=index)\n",
    "pop"
   ]
  },
  {
   "cell_type": "code",
   "execution_count": null,
   "id": "racial-football",
   "metadata": {},
   "outputs": [],
   "source": [
    "pop[('California', 2010):('Texas', 2000)]"
   ]
  },
  {
   "cell_type": "code",
   "execution_count": null,
   "id": "fa9ec7c2-9cae-494f-a276-c43ac146c2b5",
   "metadata": {
    "tags": []
   },
   "outputs": [],
   "source": [
    "for i in pop.index:\n",
    "    if i[1] == 2000:\n",
    "        print(pop[i])"
   ]
  },
  {
   "cell_type": "code",
   "execution_count": null,
   "id": "initial-giving",
   "metadata": {},
   "outputs": [],
   "source": [
    "pop[[i for i in pop.index if i[1] == 2000]]"
   ]
  },
  {
   "cell_type": "code",
   "execution_count": null,
   "id": "level-handling",
   "metadata": {},
   "outputs": [],
   "source": [
    "pop"
   ]
  },
  {
   "cell_type": "code",
   "execution_count": null,
   "id": "suspected-hebrew",
   "metadata": {},
   "outputs": [],
   "source": [
    "pop[('California', 2000)]"
   ]
  },
  {
   "cell_type": "code",
   "execution_count": null,
   "id": "urban-estimate",
   "metadata": {},
   "outputs": [],
   "source": [
    "pop[:, 2000]"
   ]
  },
  {
   "cell_type": "markdown",
   "id": "05caf8ad-9e5d-4211-8947-8af094672a55",
   "metadata": {},
   "source": [
    "The Better Way: Pandas MultiIndex"
   ]
  },
  {
   "cell_type": "code",
   "execution_count": null,
   "id": "recorded-integrity",
   "metadata": {},
   "outputs": [],
   "source": [
    "index = pd.MultiIndex.from_tuples(index)\n",
    "index"
   ]
  },
  {
   "cell_type": "code",
   "execution_count": null,
   "id": "attended-plasma",
   "metadata": {},
   "outputs": [],
   "source": [
    "pop = pop.reindex(index)\n",
    "pop"
   ]
  },
  {
   "cell_type": "code",
   "execution_count": null,
   "id": "swiss-intranet",
   "metadata": {},
   "outputs": [],
   "source": [
    "pop[:, 2000]"
   ]
  },
  {
   "cell_type": "markdown",
   "id": "hazardous-salvation",
   "metadata": {},
   "source": [
    "MultiIndex as extra dimension"
   ]
  },
  {
   "cell_type": "code",
   "execution_count": null,
   "id": "northern-effects",
   "metadata": {},
   "outputs": [],
   "source": [
    "pop_df = pop.unstack()\n",
    "pop_df\n",
    "#from long to wide in Stata"
   ]
  },
  {
   "cell_type": "code",
   "execution_count": null,
   "id": "touched-japan",
   "metadata": {},
   "outputs": [],
   "source": [
    "pop_df.stack()\n"
   ]
  },
  {
   "cell_type": "code",
   "execution_count": null,
   "id": "missing-suffering",
   "metadata": {},
   "outputs": [],
   "source": [
    "pop_df = pd.DataFrame({'total': pop,\n",
    "                       'under18': [9267089, 9284094,\n",
    "                                   4687374, 4318033,\n",
    "                                   5906301, 6879014]})\n",
    "pop_df"
   ]
  },
  {
   "cell_type": "code",
   "execution_count": null,
   "id": "restricted-makeup",
   "metadata": {},
   "outputs": [],
   "source": [
    "f_u18 = round((pop_df['under18'] / pop_df['total'])*100,2)\n",
    "f_u18.unstack()"
   ]
  },
  {
   "cell_type": "markdown",
   "id": "broken-article",
   "metadata": {},
   "source": [
    "Explicit MultiIndex constructors"
   ]
  },
  {
   "cell_type": "code",
   "execution_count": null,
   "id": "small-dakota",
   "metadata": {},
   "outputs": [],
   "source": [
    "pd.MultiIndex.from_arrays([['a', 'a', 'b', 'b'], [1, 2, 1, 2]])"
   ]
  },
  {
   "cell_type": "code",
   "execution_count": null,
   "id": "passive-manhattan",
   "metadata": {},
   "outputs": [],
   "source": [
    "pd.MultiIndex.from_tuples([('a', 1), ('a', 2), ('b', 1), ('b', 2)])"
   ]
  },
  {
   "cell_type": "code",
   "execution_count": null,
   "id": "scenic-minutes",
   "metadata": {},
   "outputs": [],
   "source": [
    "pd.MultiIndex.from_product([['a', 'b','c','d'], range(1990,1994)])"
   ]
  },
  {
   "cell_type": "code",
   "execution_count": null,
   "id": "adequate-reasoning",
   "metadata": {},
   "outputs": [],
   "source": [
    "pop.index.names = ['state', 'year']\n",
    "pop"
   ]
  },
  {
   "cell_type": "markdown",
   "id": "unable-dining",
   "metadata": {},
   "source": [
    "MultiIndex for column"
   ]
  },
  {
   "cell_type": "markdown",
   "id": "c214286b-6733-4559-827d-ed3dd50f186f",
   "metadata": {},
   "source": [
    "In a DataFrame, the rows and columns are completely symmetric, and just as the rows can have multiple levels of indices, the columns can have multiple levels as well. Consider the following, which is a mock-up of some (somewhat realistic) medical data\n",
    "\n",
    "...the average heart rate and temperature... \n",
    "...years and visits... \n",
    "...three guys: Bod, Guido ans Sue...\n",
    "\n",
    "four dimensional data"
   ]
  },
  {
   "cell_type": "code",
   "execution_count": null,
   "id": "massive-roulette",
   "metadata": {},
   "outputs": [],
   "source": [
    "# hierarchical indices and columns\n",
    "index = pd.MultiIndex.from_product([[2013, 2014], [1, 2]],\n",
    "                                   names=['year', 'visit'])\n",
    "columns = pd.MultiIndex.from_product([['Bob', 'Guido', 'Sue'], ['HR', 'Temp']],\n",
    "                                     names=['subject', 'type'])\n",
    "\n",
    "# mock some data\n",
    "data = np.round(np.random.randn(4, 6), 1)"
   ]
  },
  {
   "cell_type": "code",
   "execution_count": null,
   "id": "9a6c0d47-447a-4b82-a74e-74d749454a8f",
   "metadata": {
    "tags": []
   },
   "outputs": [],
   "source": [
    "data"
   ]
  },
  {
   "cell_type": "code",
   "execution_count": null,
   "id": "949738a7-4a08-4a11-9880-3fd79d383f0d",
   "metadata": {
    "tags": []
   },
   "outputs": [],
   "source": [
    "data[:, ::2] *= 10\n",
    "data += 37\n",
    "\n",
    "data"
   ]
  },
  {
   "cell_type": "code",
   "execution_count": null,
   "id": "f4a8453f-22c2-4be6-8250-fbf1faee1c4d",
   "metadata": {
    "tags": []
   },
   "outputs": [],
   "source": [
    "# create the DataFrame\n",
    "health_data = pd.DataFrame(data, index=index, columns=columns)\n",
    "health_data"
   ]
  },
  {
   "cell_type": "code",
   "execution_count": null,
   "id": "valued-chapel",
   "metadata": {},
   "outputs": [],
   "source": [
    "health_data['Guido']"
   ]
  },
  {
   "cell_type": "code",
   "execution_count": null,
   "id": "accompanied-mechanism",
   "metadata": {},
   "outputs": [],
   "source": [
    "health_data['Guido', 'HR']"
   ]
  },
  {
   "cell_type": "code",
   "execution_count": null,
   "id": "interstate-mouse",
   "metadata": {},
   "outputs": [],
   "source": [
    "health_data.iloc[:2]"
   ]
  },
  {
   "cell_type": "code",
   "execution_count": null,
   "id": "relative-bloom",
   "metadata": {},
   "outputs": [],
   "source": [
    "health_data.iloc[:2,:2]"
   ]
  },
  {
   "cell_type": "code",
   "execution_count": null,
   "id": "flexible-blackjack",
   "metadata": {},
   "outputs": [],
   "source": [
    "health_data.loc[:, ('Bob', 'HR')]"
   ]
  },
  {
   "cell_type": "markdown",
   "id": "rolled-oriental",
   "metadata": {},
   "source": [
    "Stacking and unstacking indices"
   ]
  },
  {
   "cell_type": "code",
   "execution_count": null,
   "id": "143b6e1a-49d2-4576-b2c3-ddcf18c59e65",
   "metadata": {},
   "outputs": [],
   "source": [
    "pop"
   ]
  },
  {
   "cell_type": "code",
   "execution_count": null,
   "id": "julian-warrant",
   "metadata": {},
   "outputs": [],
   "source": [
    "pop.unstack()"
   ]
  },
  {
   "cell_type": "code",
   "execution_count": null,
   "id": "multiple-making",
   "metadata": {},
   "outputs": [],
   "source": [
    "pop.unstack(level=0)"
   ]
  },
  {
   "cell_type": "code",
   "execution_count": null,
   "id": "egyptian-vietnamese",
   "metadata": {},
   "outputs": [],
   "source": [
    "pop.unstack().stack()"
   ]
  },
  {
   "cell_type": "code",
   "execution_count": null,
   "id": "concerned-arbitration",
   "metadata": {},
   "outputs": [],
   "source": [
    "pop_flat = pop.reset_index(name='population')\n",
    "pop_flat"
   ]
  },
  {
   "cell_type": "code",
   "execution_count": null,
   "id": "accomplished-sullivan",
   "metadata": {},
   "outputs": [],
   "source": [
    "pop_flat.set_index(['state', 'year'])"
   ]
  },
  {
   "cell_type": "markdown",
   "id": "played-birth",
   "metadata": {},
   "source": [
    "Data Aggregations on Multi-Indices"
   ]
  },
  {
   "cell_type": "code",
   "execution_count": null,
   "id": "virgin-camping",
   "metadata": {},
   "outputs": [],
   "source": [
    "health_data"
   ]
  },
  {
   "cell_type": "code",
   "execution_count": null,
   "id": "ancient-fifteen",
   "metadata": {},
   "outputs": [],
   "source": [
    "data_mean = health_data.mean(level='year')\n",
    "data_mean"
   ]
  },
  {
   "cell_type": "code",
   "execution_count": null,
   "id": "29a14d78-b1ee-4b60-aae6-a420c138180a",
   "metadata": {
    "tags": []
   },
   "outputs": [],
   "source": [
    "data_mean = health_data.groupby(level='year').mean()\n",
    "data_mean"
   ]
  },
  {
   "cell_type": "code",
   "execution_count": null,
   "id": "c2a05651-aa4d-4198-9409-61c6aa647eaf",
   "metadata": {
    "tags": []
   },
   "outputs": [],
   "source": [
    "pop"
   ]
  },
  {
   "cell_type": "code",
   "execution_count": null,
   "id": "compact-world",
   "metadata": {},
   "outputs": [],
   "source": [
    "pop.mean(level='state')"
   ]
  },
  {
   "cell_type": "code",
   "execution_count": null,
   "id": "experienced-roots",
   "metadata": {},
   "outputs": [],
   "source": [
    "pop.mean(level='year')"
   ]
  },
  {
   "cell_type": "code",
   "execution_count": null,
   "id": "09317c19-0bf8-4ccb-9fd3-55282a93bf51",
   "metadata": {
    "tags": []
   },
   "outputs": [],
   "source": [
    "pop"
   ]
  },
  {
   "cell_type": "code",
   "execution_count": null,
   "id": "e5c93cff-4aaa-466b-92cf-9f3e10e99140",
   "metadata": {
    "tags": []
   },
   "outputs": [],
   "source": [
    "pop.groupby(level='state').mean()"
   ]
  },
  {
   "cell_type": "code",
   "execution_count": null,
   "id": "84689971-37b2-4f6a-a64e-60d1a55f533a",
   "metadata": {
    "tags": []
   },
   "outputs": [],
   "source": [
    "pop.groupby(level='year').mean()"
   ]
  },
  {
   "cell_type": "markdown",
   "id": "supreme-instruction",
   "metadata": {},
   "source": [
    "## Combining Datasets: Concat"
   ]
  },
  {
   "cell_type": "code",
   "execution_count": null,
   "id": "tender-piano",
   "metadata": {},
   "outputs": [],
   "source": [
    "import pandas as pd\n",
    "import numpy as np"
   ]
  },
  {
   "cell_type": "code",
   "execution_count": null,
   "id": "hispanic-endorsement",
   "metadata": {},
   "outputs": [],
   "source": [
    "x = [1, 2, 3]\n",
    "y = [4, 5, 6]\n",
    "z = [7, 8, 9]\n",
    "np.concatenate([x, y, z])"
   ]
  },
  {
   "cell_type": "code",
   "execution_count": null,
   "id": "affected-oregon",
   "metadata": {},
   "outputs": [],
   "source": [
    "x = [[1, 2],\n",
    "     [3, 4]]\n",
    "np.concatenate([x, x], axis=1) # Note that default option is neither axis=0 nor axis=1"
   ]
  },
  {
   "cell_type": "code",
   "execution_count": null,
   "id": "e8b687db-7a83-49cb-a2a1-14ad30295bd9",
   "metadata": {
    "tags": []
   },
   "outputs": [],
   "source": [
    "np.shape(x)"
   ]
  },
  {
   "cell_type": "code",
   "execution_count": null,
   "id": "offshore-electric",
   "metadata": {},
   "outputs": [],
   "source": [
    "ser1 = pd.Series(['A', 'B', 'C'], index=[1, 2, 3])\n",
    "ser2 = pd.Series(['D', 'E', 'F'], index=[4, 5, 6])\n",
    "pd.concat([ser1, ser2])"
   ]
  },
  {
   "cell_type": "code",
   "execution_count": null,
   "id": "respective-japan",
   "metadata": {},
   "outputs": [],
   "source": [
    "def make_df(cols, ind):\n",
    "    \"\"\"Quickly make a DataFrame\"\"\"\n",
    "    data = {c: [str(c) + str(i) for i in ind] for c in cols}\n",
    "    return pd.DataFrame(data, ind)\n",
    "\n",
    "# example DataFrame\n",
    "make_df('ABC', range(3))"
   ]
  },
  {
   "cell_type": "code",
   "execution_count": null,
   "id": "mobile-bailey",
   "metadata": {},
   "outputs": [],
   "source": [
    "#different observations, same features\n",
    "df1 = make_df('AB', [1, 2])\n",
    "df2 = make_df('AB', [3, 4])\n",
    "display(df1, df2, pd.concat([df1, df2]))"
   ]
  },
  {
   "cell_type": "code",
   "execution_count": null,
   "id": "departmental-revelation",
   "metadata": {},
   "outputs": [],
   "source": [
    "#different features, same observations (a more common case while working with real life data)\n",
    "df3 = make_df('AB', [0, 1])\n",
    "df4 = make_df('CD', [0, 1])\n",
    "display(df3, df4, pd.concat([df3, df4], axis=1))"
   ]
  },
  {
   "cell_type": "markdown",
   "id": "sharp-minutes",
   "metadata": {},
   "source": [
    "## Merge and Join"
   ]
  },
  {
   "cell_type": "code",
   "execution_count": null,
   "id": "fundamental-partner",
   "metadata": {},
   "outputs": [],
   "source": [
    "df1 = pd.DataFrame({'employee': ['Bob', 'Jake', 'Lisa', 'Sue'],\n",
    "                    'group': ['Accounting', 'Engineering', 'Engineering', 'HR']})\n",
    "df2 = pd.DataFrame({'employee': ['Lisa', 'Bob', 'Jake', 'Sue'],\n",
    "                    'hire_date': [2004, 2008, 2012, 2014]})\n",
    "display(df1, df2)"
   ]
  },
  {
   "cell_type": "code",
   "execution_count": null,
   "id": "complete-testament",
   "metadata": {},
   "outputs": [],
   "source": [
    "#One-to-one\n",
    "df3 = pd.merge(df1, df2)\n",
    "df3\n",
    "\n",
    "#The pd.merge() function recognizes that each DataFrame has an \"employee\" column, and automatically joins using this column as a key. "
   ]
  },
  {
   "cell_type": "code",
   "execution_count": null,
   "id": "alternative-malaysia",
   "metadata": {},
   "outputs": [],
   "source": [
    "#Many-to-one\n",
    "df4 = pd.DataFrame({'group': ['Accounting', 'Engineering', 'HR'],\n",
    "                    'supervisor': ['Carly', 'Guido', 'Steve']})\n",
    "display(df3, df4, pd.merge(df3, df4))"
   ]
  },
  {
   "cell_type": "code",
   "execution_count": null,
   "id": "innovative-precipitation",
   "metadata": {},
   "outputs": [],
   "source": [
    "#Many-to-many\n",
    "df5 = pd.DataFrame({'group': ['Accounting', 'Accounting',\n",
    "                              'Engineering', 'Engineering', 'HR', 'HR'],\n",
    "                    'skills': ['math', 'spreadsheets', 'coding', 'linux',\n",
    "                               'spreadsheets', 'organization']})\n",
    "display(df1, df5, pd.merge(df1, df5))"
   ]
  },
  {
   "cell_type": "markdown",
   "id": "arctic-australian",
   "metadata": {},
   "source": [
    "Specification of the Merge Key"
   ]
  },
  {
   "cell_type": "code",
   "execution_count": null,
   "id": "distinguished-radar",
   "metadata": {},
   "outputs": [],
   "source": [
    "display(df1, df2, pd.merge(df1, df2, on='employee'))"
   ]
  },
  {
   "cell_type": "code",
   "execution_count": null,
   "id": "successful-acceptance",
   "metadata": {},
   "outputs": [],
   "source": [
    "df3 = pd.DataFrame({'name': ['Bob', 'Jake', 'Lisa', 'Sue'],\n",
    "                    'salary': [70000, 80000, 120000, 90000]})\n",
    "display(df1, df3, pd.merge(df1, df3, left_on=\"employee\", right_on=\"name\"))"
   ]
  },
  {
   "cell_type": "code",
   "execution_count": null,
   "id": "indirect-finder",
   "metadata": {},
   "outputs": [],
   "source": [
    "pd.merge(df1, df3, left_on=\"employee\", right_on=\"name\").drop('name', axis=1)"
   ]
  },
  {
   "cell_type": "code",
   "execution_count": null,
   "id": "worth-jordan",
   "metadata": {},
   "outputs": [],
   "source": [
    "df1a = df1.set_index('employee')\n",
    "df2a = df2.set_index('employee')\n",
    "display(df1a, df2a)"
   ]
  },
  {
   "cell_type": "code",
   "execution_count": null,
   "id": "virtual-dynamics",
   "metadata": {},
   "outputs": [],
   "source": [
    "display(df1a, df2a,\n",
    "        pd.merge(df1a, df2a, left_index=False, right_index=False))"
   ]
  },
  {
   "cell_type": "code",
   "execution_count": null,
   "id": "842f702b-7460-4ba3-a2e8-f8b3812ec2bb",
   "metadata": {
    "tags": []
   },
   "outputs": [],
   "source": [
    "display(df1a, df2a)"
   ]
  },
  {
   "cell_type": "code",
   "execution_count": null,
   "id": "0ecbf1a2-c826-4c28-b14f-2dbaca53b2c9",
   "metadata": {
    "tags": []
   },
   "outputs": [],
   "source": [
    "pd.merge(df1a, df2a, left_index=True, right_index=True).reset_index()"
   ]
  },
  {
   "cell_type": "markdown",
   "id": "solid-safety",
   "metadata": {},
   "source": [
    "Specifying Set Arithmetic for Joins"
   ]
  },
  {
   "cell_type": "code",
   "execution_count": null,
   "id": "certified-least",
   "metadata": {},
   "outputs": [],
   "source": [
    "df6 = pd.DataFrame({'name': ['Peter', 'Paul', 'Mary'],\n",
    "                    'food': ['fish', 'beans', 'bread']},\n",
    "                   columns=['name', 'food'])\n",
    "df7 = pd.DataFrame({'name': ['Mary', 'Joseph'],\n",
    "                    'drink': ['wine', 'beer']},\n",
    "                   columns=['name', 'drink'])\n",
    "display(df6, df7, pd.merge(df6, df7))"
   ]
  },
  {
   "cell_type": "code",
   "execution_count": null,
   "id": "variable-spouse",
   "metadata": {},
   "outputs": [],
   "source": [
    "pd.merge(df6, df7, how='inner')"
   ]
  },
  {
   "cell_type": "code",
   "execution_count": null,
   "id": "fatal-merchandise",
   "metadata": {},
   "outputs": [],
   "source": [
    "display(df6, df7, pd.merge(df6, df7, how='outer'))"
   ]
  },
  {
   "cell_type": "code",
   "execution_count": null,
   "id": "engaged-allah",
   "metadata": {},
   "outputs": [],
   "source": [
    "display(df6, df7, pd.merge(df6, df7, how='right'))"
   ]
  },
  {
   "attachments": {
    "join-or-merge-in-python-pandas-1.png": {
     "image/png": "[encoded data removed]"
    }
   },
   "cell_type": "markdown",
   "id": "impaired-colombia",
   "metadata": {},
   "source": [
    "![join-or-merge-in-python-pandas-1.png](attachment:join-or-merge-in-python-pandas-1.png)"
   ]
  },
  {
   "cell_type": "code",
   "execution_count": null,
   "id": "pleased-eligibility",
   "metadata": {},
   "outputs": [],
   "source": [
    "df8 = pd.DataFrame({'name': ['Bob', 'Jake', 'Lisa', 'Sue'],\n",
    "                    'rank': [1, 2, 3, 4]})\n",
    "df9 = pd.DataFrame({'name': ['Bob', 'Jake', 'Lisa', 'Sue'],\n",
    "                    'rank': [3, 1, 4, 2]})\n",
    "display(df8, df9, pd.merge(df8, df9, on=\"name\"))"
   ]
  },
  {
   "cell_type": "code",
   "execution_count": null,
   "id": "balanced-trustee",
   "metadata": {},
   "outputs": [],
   "source": [
    "display(df8, df9, pd.merge(df8, df9, on=\"name\", suffixes=[\"_L\", \"_R\"]))"
   ]
  },
  {
   "cell_type": "markdown",
   "id": "outdoor-cabinet",
   "metadata": {},
   "source": [
    "## Aggregation and Grouping"
   ]
  },
  {
   "cell_type": "markdown",
   "id": "interior-offer",
   "metadata": {},
   "source": [
    "An essential piece of analysis of large data is efficient summarization: computing aggregations like sum(), mean(), median(), min(), and max(), in which a single number gives insight into the nature of a potentially large dataset. In this section, we'll explore aggregations in Pandas, from simple operations akin to what we've seen on NumPy arrays, to more sophisticated operations based on the concept of a groupby."
   ]
  },
  {
   "cell_type": "code",
   "execution_count": null,
   "id": "charitable-manner",
   "metadata": {},
   "outputs": [],
   "source": [
    "import numpy as np\n",
    "import pandas as pd"
   ]
  },
  {
   "cell_type": "code",
   "execution_count": null,
   "id": "262f96ac-7f4f-4993-93b7-d443f154ed17",
   "metadata": {
    "tags": []
   },
   "outputs": [],
   "source": [
    "# pip install seaborn"
   ]
  },
  {
   "cell_type": "code",
   "execution_count": null,
   "id": "equipped-probability",
   "metadata": {},
   "outputs": [],
   "source": [
    "import seaborn as sns\n",
    "planets = sns.load_dataset('planets')\n",
    "planets.shape"
   ]
  },
  {
   "cell_type": "code",
   "execution_count": null,
   "id": "assured-damages",
   "metadata": {
    "scrolled": true,
    "tags": []
   },
   "outputs": [],
   "source": [
    "planets.head(10)"
   ]
  },
  {
   "cell_type": "code",
   "execution_count": null,
   "id": "weekly-password",
   "metadata": {},
   "outputs": [],
   "source": [
    "rng = np.random.RandomState(42)"
   ]
  },
  {
   "cell_type": "code",
   "execution_count": null,
   "id": "2c1a2155-0576-42cf-9820-d1d9dd3f47aa",
   "metadata": {},
   "outputs": [],
   "source": [
    "type(rng)"
   ]
  },
  {
   "cell_type": "code",
   "execution_count": null,
   "id": "460131b5-07df-4244-8644-9a00aa9b8695",
   "metadata": {},
   "outputs": [],
   "source": [
    "ser = pd.Series(rng.rand(5))\n",
    "ser"
   ]
  },
  {
   "cell_type": "code",
   "execution_count": null,
   "id": "elder-investing",
   "metadata": {},
   "outputs": [],
   "source": [
    "ser.sum()"
   ]
  },
  {
   "cell_type": "code",
   "execution_count": null,
   "id": "skilled-iraqi",
   "metadata": {},
   "outputs": [],
   "source": [
    "ser.mean()"
   ]
  },
  {
   "cell_type": "code",
   "execution_count": null,
   "id": "ready-mercury",
   "metadata": {},
   "outputs": [],
   "source": [
    "df = pd.DataFrame({'A': rng.rand(5),\n",
    "                   'B': rng.rand(5)})\n",
    "df"
   ]
  },
  {
   "cell_type": "code",
   "execution_count": null,
   "id": "boolean-advancement",
   "metadata": {},
   "outputs": [],
   "source": [
    "df.mean()"
   ]
  },
  {
   "cell_type": "code",
   "execution_count": null,
   "id": "retained-contribution",
   "metadata": {},
   "outputs": [],
   "source": [
    "df.mean(axis='columns') #instead of 'columns', just write 1"
   ]
  },
  {
   "cell_type": "code",
   "execution_count": null,
   "id": "listed-barrier",
   "metadata": {},
   "outputs": [],
   "source": [
    "planets.dropna().describe()"
   ]
  },
  {
   "cell_type": "markdown",
   "id": "express-chester",
   "metadata": {},
   "source": [
    "GroupBy: Split, Apply, Combine"
   ]
  },
  {
   "cell_type": "code",
   "execution_count": null,
   "id": "third-waters",
   "metadata": {},
   "outputs": [],
   "source": [
    "df = pd.DataFrame({'key': ['A', 'B', 'C', 'A', 'B', 'C'],\n",
    "                   'data': range(6)}, columns=['key', 'data'])\n",
    "df"
   ]
  },
  {
   "cell_type": "code",
   "execution_count": null,
   "id": "billion-hudson",
   "metadata": {},
   "outputs": [],
   "source": [
    "df.groupby('key')"
   ]
  },
  {
   "cell_type": "code",
   "execution_count": null,
   "id": "administrative-geometry",
   "metadata": {},
   "outputs": [],
   "source": [
    "df.groupby('key').sum()"
   ]
  },
  {
   "cell_type": "code",
   "execution_count": null,
   "id": "sized-pencil",
   "metadata": {},
   "outputs": [],
   "source": [
    "planets.groupby('method')"
   ]
  },
  {
   "cell_type": "code",
   "execution_count": null,
   "id": "seven-hungary",
   "metadata": {},
   "outputs": [],
   "source": [
    "planets.groupby('method')['orbital_period']"
   ]
  },
  {
   "cell_type": "code",
   "execution_count": null,
   "id": "skilled-hormone",
   "metadata": {},
   "outputs": [],
   "source": [
    "planets['orbital_period'].median()"
   ]
  },
  {
   "cell_type": "code",
   "execution_count": null,
   "id": "animated-myanmar",
   "metadata": {},
   "outputs": [],
   "source": [
    "planets.groupby('method')['orbital_period'].median()"
   ]
  },
  {
   "cell_type": "code",
   "execution_count": null,
   "id": "alpha-throat",
   "metadata": {},
   "outputs": [],
   "source": [
    "planets.groupby('method')['orbital_period'].describe()"
   ]
  },
  {
   "cell_type": "markdown",
   "id": "muslim-laser",
   "metadata": {},
   "source": [
    "Aggregate, filter, transform, apply"
   ]
  },
  {
   "cell_type": "code",
   "execution_count": null,
   "id": "apart-destiny",
   "metadata": {},
   "outputs": [],
   "source": [
    "rng = np.random.RandomState(0)\n",
    "df = pd.DataFrame({'key': ['A', 'B', 'C', 'A', 'B', 'C'],\n",
    "                   'data1': range(6),\n",
    "                   'data2': rng.randint(0, 10, 6)},\n",
    "                   columns = ['key', 'data1', 'data2'])\n",
    "df"
   ]
  },
  {
   "cell_type": "code",
   "execution_count": null,
   "id": "premier-cleaners",
   "metadata": {},
   "outputs": [],
   "source": [
    "#aggregation returns some reduced version of data\n",
    "df.groupby('key').aggregate([min, np.median, max])"
   ]
  },
  {
   "cell_type": "code",
   "execution_count": null,
   "id": "likely-kansas",
   "metadata": {},
   "outputs": [],
   "source": [
    "df.groupby('key').aggregate({'data1': 'min',\n",
    "                             'data2': 'max'})"
   ]
  },
  {
   "cell_type": "code",
   "execution_count": null,
   "id": "environmental-mattress",
   "metadata": {},
   "outputs": [],
   "source": [
    "def asd(x):\n",
    "    return x['data2'].std() > 4\n",
    "\n",
    "display(df, df.groupby('key').std(), df.groupby('key').filter(asd))"
   ]
  },
  {
   "cell_type": "markdown",
   "id": "worse-tension",
   "metadata": {},
   "source": [
    "While aggregation must return a reduced version of the data, transformation can return some transformed version of the full data to recombine. For such a transformation, the output is the same shape as the input. A common example is to center the data by subtracting the group-wise mean:"
   ]
  },
  {
   "cell_type": "code",
   "execution_count": null,
   "id": "general-payment",
   "metadata": {},
   "outputs": [],
   "source": [
    "##transformation returns transformed version of data\n",
    "\n",
    "display(df, df.groupby('key').mean(), df.groupby('key').transform(lambda x: x - x.mean()))"
   ]
  },
  {
   "cell_type": "markdown",
   "id": "27656c98-30a1-4d5e-8951-70fc0e23f85c",
   "metadata": {},
   "source": [
    "A lambda function in python is a small anonymous function that can take any number of arguments and execute an expression."
   ]
  },
  {
   "cell_type": "code",
   "execution_count": null,
   "id": "thermal-consortium",
   "metadata": {},
   "outputs": [],
   "source": [
    "df['data2'].sum()"
   ]
  },
  {
   "cell_type": "code",
   "execution_count": null,
   "id": "2a23a921-0fdd-48bf-86b0-22b308e25236",
   "metadata": {},
   "outputs": [],
   "source": [
    "df"
   ]
  },
  {
   "cell_type": "code",
   "execution_count": null,
   "id": "postal-trust",
   "metadata": {},
   "outputs": [],
   "source": [
    "def norm_by_data2(x):\n",
    "    # x is a DataFrame of group values\n",
    "    x['data1'] /= x['data2'].sum()\n",
    "    return x\n",
    "\n",
    "display(df, df.groupby('key').apply(norm_by_data2))"
   ]
  },
  {
   "cell_type": "code",
   "execution_count": null,
   "id": "pediatric-invalid",
   "metadata": {},
   "outputs": [],
   "source": [
    "L = [0, 1, 0, 1, 2, 0]\n",
    "\n",
    "display(df, df.groupby(L).sum())"
   ]
  },
  {
   "cell_type": "code",
   "execution_count": null,
   "id": "subtle-blink",
   "metadata": {},
   "outputs": [],
   "source": [
    "display(df, df.groupby(df['key']).sum())"
   ]
  },
  {
   "cell_type": "code",
   "execution_count": null,
   "id": "automotive-walker",
   "metadata": {},
   "outputs": [],
   "source": [
    "df2 = df.set_index('key')\n",
    "mapping = {'A': 'vowel', 'B': 'consonant', 'C': 'consonant'}\n",
    "display(df2, df2.groupby(mapping).sum())"
   ]
  },
  {
   "cell_type": "code",
   "execution_count": null,
   "id": "cardiovascular-guest",
   "metadata": {},
   "outputs": [],
   "source": [
    "display(df2, df2.groupby(str.lower).mean())"
   ]
  },
  {
   "cell_type": "code",
   "execution_count": null,
   "id": "alike-canadian",
   "metadata": {},
   "outputs": [],
   "source": [
    "df2.groupby([str.lower, mapping]).mean()"
   ]
  },
  {
   "cell_type": "markdown",
   "id": "owned-survival",
   "metadata": {},
   "source": [
    "#### Grouping example\n",
    "\n",
    "As an example of this, in a couple lines of Python code we can put all these together and count discovered planets by method and by decade:"
   ]
  },
  {
   "cell_type": "code",
   "execution_count": null,
   "id": "0bdc70f8-d2ea-4881-bb47-d311b3459d32",
   "metadata": {},
   "outputs": [],
   "source": [
    "planets"
   ]
  },
  {
   "cell_type": "code",
   "execution_count": null,
   "id": "viral-recognition",
   "metadata": {},
   "outputs": [],
   "source": [
    "decade = 10 * (planets['year'] // 10) # rounded down to the nearest whole number"
   ]
  },
  {
   "cell_type": "code",
   "execution_count": null,
   "id": "fc6c6368-09c0-4f59-98a6-18864b3efe43",
   "metadata": {
    "tags": []
   },
   "outputs": [],
   "source": [
    "decade = decade.astype(str) + 's'\n",
    "decade"
   ]
  },
  {
   "cell_type": "code",
   "execution_count": null,
   "id": "f55ccb59-707e-45f6-a995-a39a936b82cf",
   "metadata": {},
   "outputs": [],
   "source": [
    "planets['decade']=decade\n",
    "planets"
   ]
  },
  {
   "cell_type": "code",
   "execution_count": null,
   "id": "0477109d-2223-4cd1-8a06-e1e94cb0f9fb",
   "metadata": {
    "tags": []
   },
   "outputs": [],
   "source": [
    "planets.groupby(['method','decade'])['number'].sum()"
   ]
  },
  {
   "cell_type": "code",
   "execution_count": null,
   "id": "65c2d31e-3dd8-46ef-8d1b-654601de20a7",
   "metadata": {},
   "outputs": [],
   "source": [
    "planets.groupby(['method', 'decade'])['number'].sum().unstack(level=1)"
   ]
  },
  {
   "cell_type": "code",
   "execution_count": null,
   "id": "f20a596b-88ee-4d1b-9383-aeb01c7ff51b",
   "metadata": {},
   "outputs": [],
   "source": [
    "planets.groupby(['method', decade])['number'].sum().unstack().fillna(0)"
   ]
  }
 ],
 "metadata": {
  "kernelspec": {
   "display_name": "Python 3 (ipykernel)",
   "language": "python",
   "name": "python3"
  },
  "language_info": {
   "codemirror_mode": {
    "name": "ipython",
    "version": 3
   },
   "file_extension": ".py",
   "mimetype": "text/x-python",
   "name": "python",
   "nbconvert_exporter": "python",
   "pygments_lexer": "ipython3",
   "version": "3.11.5"
  }
 },
 "nbformat": 4,
 "nbformat_minor": 5
}
